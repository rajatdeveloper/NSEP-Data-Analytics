{
  "nbformat": 4,
  "nbformat_minor": 0,
  "metadata": {
    "colab": {
      "name": "Part1 & Part2.ipynb",
      "version": "0.3.2",
      "provenance": [],
      "collapsed_sections": [],
      "include_colab_link": true
    },
    "kernelspec": {
      "name": "python3",
      "display_name": "Python 3"
    }
  },
  "cells": [
    {
      "cell_type": "markdown",
      "metadata": {
        "id": "view-in-github",
        "colab_type": "text"
      },
      "source": [
        "<a href=\"https://colab.research.google.com/github/rajatdeveloper/NSEP-Data-Analytics/blob/master/Part1_%26_Part2.ipynb\" target=\"_parent\"><img src=\"https://colab.research.google.com/assets/colab-badge.svg\" alt=\"Open In Colab\"/></a>"
      ]
    },
    {
      "metadata": {
        "id": "VtMuIESQetsc",
        "colab_type": "text"
      },
      "cell_type": "markdown",
      "source": [
        "# Installing &  Importing Dataset and Packages"
      ]
    },
    {
      "metadata": {
        "id": "tYmwGaKnPhDk",
        "colab_type": "text"
      },
      "cell_type": "markdown",
      "source": [
        "# Data Preprocessing"
      ]
    },
    {
      "metadata": {
        "id": "P1Nt4yCKPcxX",
        "colab_type": "text"
      },
      "cell_type": "markdown",
      "source": [
        "**Import Dataset**"
      ]
    },
    {
      "metadata": {
        "id": "cfonVvlYZIki",
        "colab_type": "code",
        "colab": {}
      },
      "cell_type": "code",
      "source": [
        "pip install nsepy"
      ],
      "execution_count": 0,
      "outputs": []
    },
    {
      "metadata": {
        "id": "C52wibrWPuuo",
        "colab_type": "text"
      },
      "cell_type": "markdown",
      "source": [
        "**Import Packages and Library**"
      ]
    },
    {
      "metadata": {
        "id": "bTosTzPKaSLH",
        "colab_type": "code",
        "colab": {}
      },
      "cell_type": "code",
      "source": [
        "from datetime import date,timedelta\n",
        "from nsepy import get_history\n",
        "import numpy as np\n",
        "import pandas as pd\n",
        "from pandas import datetime\n",
        "import matplotlib.pyplot as plt\n",
        "import math\n",
        "%matplotlib inline\n",
        "%pylab inline\n",
        "pylab.rcParams['figure.figsize'] = (20, 12)"
      ],
      "execution_count": 0,
      "outputs": []
    },
    {
      "metadata": {
        "id": "q1r7_5tKSV10",
        "colab_type": "text"
      },
      "cell_type": "markdown",
      "source": [
        "**NSE stocks (INFY,TCS) between 2015-2016**"
      ]
    },
    {
      "metadata": {
        "id": "fyR7r-8E3r7x",
        "colab_type": "code",
        "colab": {}
      },
      "cell_type": "code",
      "source": [
        "number_of_days = 365\n",
        "#start date\n",
        "strt = date(2015,1,1)\n",
        "#end date\n",
        "ends = strt+timedelta(days=number_of_days)\n",
        "#fetches the price history of stocks\n",
        "TCS = get_history(symbol='TCS',\n",
        "                    start= strt,\n",
        "                    end=ends)\n",
        "\n"
      ],
      "execution_count": 0,
      "outputs": []
    },
    {
      "metadata": {
        "id": "TVr39Z8beSgf",
        "colab_type": "code",
        "colab": {}
      },
      "cell_type": "code",
      "source": [
        "TCS"
      ],
      "execution_count": 0,
      "outputs": []
    },
    {
      "metadata": {
        "id": "PhtXwaGO4pXU",
        "colab_type": "code",
        "colab": {}
      },
      "cell_type": "code",
      "source": [
        "number_of_days = 365\n",
        "#start date\n",
        "strt = date(2015,1,1)\n",
        "#end date\n",
        "ends = strt+timedelta(days=number_of_days)\n",
        "#fetches the price history of stocks\n",
        "INFY = get_history(symbol='INFY',\n",
        "                    start= strt,\n",
        "                    end=ends)"
      ],
      "execution_count": 0,
      "outputs": []
    },
    {
      "metadata": {
        "id": "u8x8LRLIeWxn",
        "colab_type": "code",
        "colab": {}
      },
      "cell_type": "code",
      "source": [
        "INFY"
      ],
      "execution_count": 0,
      "outputs": []
    },
    {
      "metadata": {
        "id": "mqU-HERUTEPO",
        "colab_type": "text"
      },
      "cell_type": "markdown",
      "source": [
        "**Type Casting Date**"
      ]
    },
    {
      "metadata": {
        "id": "zE37wgXCeZYj",
        "colab_type": "code",
        "colab": {}
      },
      "cell_type": "code",
      "source": [
        "def type_casting(stock):\n",
        "    #reset the index\n",
        "    stock = stock.reset_index()\n",
        "    #typecast the Date datatype    \n",
        "    stock[\"Date\"] = pd.to_datetime(stock[\"Date\"])\n",
        "    #assign the index\n",
        "    stock.index = stock['Date']\n",
        "    return stock"
      ],
      "execution_count": 0,
      "outputs": []
    },
    {
      "metadata": {
        "id": "L2ig-0Qbgssk",
        "colab_type": "code",
        "colab": {}
      },
      "cell_type": "code",
      "source": [
        "TCS = type_casting(TCS)\n",
        "INFY = type_casting(INFY)\n",
        "#Assign name to stocks\n",
        "TCS.name = 'TCS'\n",
        "INFY.name = 'INFY'"
      ],
      "execution_count": 0,
      "outputs": []
    },
    {
      "metadata": {
        "id": "8EvLlU9Ojk7V",
        "colab_type": "code",
        "colab": {}
      },
      "cell_type": "code",
      "source": [
        "#create list of stock\n",
        "stocks = [TCS,INFY]"
      ],
      "execution_count": 0,
      "outputs": []
    },
    {
      "metadata": {
        "id": "XJGLLFhobRw_",
        "colab_type": "text"
      },
      "cell_type": "markdown",
      "source": [
        "#                                                                                             Part 1"
      ]
    },
    {
      "metadata": {
        "id": "wDsqSzcobV3p",
        "colab_type": "text"
      },
      "cell_type": "markdown",
      "source": [
        "**1. Create 4,16,....,52 week moving average(closing price) for each stock and index. This should happen through a function.**"
      ]
    },
    {
      "metadata": {
        "id": "zfpaZxf31ZG9",
        "colab_type": "text"
      },
      "cell_type": "markdown",
      "source": [
        "Assumption : Assume the size of a week is 5 day (Monday-Friday) and ignore the other holidays.\n",
        "Can't compute 52-week moving avergae because of other holidays"
      ]
    },
    {
      "metadata": {
        "id": "HiJtAoiRg8PR",
        "colab_type": "text"
      },
      "cell_type": "markdown",
      "source": [
        "**Moving Average Implementation**"
      ]
    },
    {
      "metadata": {
        "id": "A4gnDEhbbU49",
        "colab_type": "code",
        "colab": {}
      },
      "cell_type": "code",
      "source": [
        "#Moving Avergae Function\n",
        "def moving_average(values, size):\n",
        "    return np.convolve(values, np.ones(size), 'valid')/ size"
      ],
      "execution_count": 0,
      "outputs": []
    },
    {
      "metadata": {
        "id": "sWBfnDohevo_",
        "colab_type": "code",
        "colab": {}
      },
      "cell_type": "code",
      "source": [
        "#Append Moving Average in Dataset & Plot Line Chart Of Moving Average\n",
        "def plot_moving_average(stock):\n",
        "  \n",
        "  #creating array of window size\n",
        "  window_arr = [4,16,28,40]\n",
        "  day = 5\n",
        "  moving_average_dict = {}\n",
        "  \n",
        "  #Plot of closing price of stock\n",
        "  plt.title(\"Moving Average Of \"+stock.name+\" Stock\",fontsize=20)\n",
        "  plt.xlabel(\"Date\",fontsize=15) \n",
        "  plt.ylabel(\"Price\",fontsize=20)\n",
        "  #Plot of original closing price of stock\n",
        "  plt.plot(stock[\"Date\"],stock[\"Close\"],label=\"Closing pricing\",linestyle='--',linewidth=2)\n",
        "  \n",
        "  for size in window_arr:\n",
        "   \n",
        "    #dummy array for starting date to resize the frame as original \n",
        "    NA = [float('nan') for i in range(size*day-1)]\n",
        "    NA = np.array(NA)\n",
        "    #append dummy array with moving average\n",
        "    moving_average_dict[size] = np.hstack([NA,moving_average(stock[\"Close\"],size*day)])\n",
        "   \n",
        "    #append moving average to original dataframe of stock\n",
        "    temp = \"Moving Average \"+str(size)+\"-week\"\n",
        "    stock[temp] = moving_average_dict[size]\n",
        "    \n",
        "    #Plot of moving average of closing price of stock\n",
        "    plt.plot(stock[\"Date\"],stock[temp],label = temp,linewidth=2)\n",
        "  \n",
        "  print(\"Data Of \"+stock.name)\n",
        "  #display stock dataframe\n",
        "  display(stock)\n",
        "  \n",
        "  plt.legend(title = \"Legends\",loc = 3,prop={'size': 12})\n",
        "  plt.show()"
      ],
      "execution_count": 0,
      "outputs": []
    },
    {
      "metadata": {
        "id": "ZjktoF1ngyha",
        "colab_type": "code",
        "colab": {}
      },
      "cell_type": "code",
      "source": [
        "for stock in stocks:\n",
        "  plot_moving_average(stock)\n"
      ],
      "execution_count": 0,
      "outputs": []
    },
    {
      "metadata": {
        "id": "J7GsqK6DO5VP",
        "colab_type": "text"
      },
      "cell_type": "markdown",
      "source": [
        "**2. Create rolling window of size 10 on each stock/index. Handle unequal time series due to stock market holidays. You should look to increase your rolling window size to 75 and see how the data looks like.**"
      ]
    },
    {
      "metadata": {
        "id": "IpdFmZKDDd2m",
        "colab_type": "code",
        "colab": {}
      },
      "cell_type": "code",
      "source": [
        "def rolling_window(stock):\n",
        "    #creating array of Rolling window size\n",
        "    rolling_arr = [10,75]\n",
        "    \n",
        "    #Plot of closing price of stock\n",
        "    plt.title(\"Moving Average Of \"+stock.name+\" Stock\",fontsize=20)\n",
        "    plt.xlabel(\"Date\",fontsize=15) \n",
        "    plt.ylabel(\"Price\",fontsize=20)  \n",
        "    #Plot of original closing price of stock\n",
        "    plt.plot(stock[\"Date\"],stock[\"Close\"],label=\"Closing pricing\",linestyle='--',linewidth=2)\n",
        "\n",
        "    for size in rolling_arr:\n",
        "        temp = \"Rolling Window \"+str(size) \n",
        "        \n",
        "        #append rolling window average to original dataframe of stock\n",
        "        stock[temp] = np.round(stock[\"Close\"].rolling(window = size, center = False).mean(), 2)\n",
        "        \n",
        "        #Plot of rolling window average of closing price of stock\n",
        "        plt.plot(stock[\"Date\"],stock[temp],label = temp,linewidth=2)\n",
        "    \n",
        "    print(\"Data Of \"+stock.name)\n",
        "    #display stock dataframe\n",
        "    display(stock)\n",
        "    \n",
        "    plt.legend(title = \"Legends\",loc = 3,prop={'size': 12})\n",
        "    plt.show()"
      ],
      "execution_count": 0,
      "outputs": []
    },
    {
      "metadata": {
        "id": "gEXAaKrErfrG",
        "colab_type": "code",
        "colab": {}
      },
      "cell_type": "code",
      "source": [
        "for stock in stocks:\n",
        "  rolling_window(stock)\n"
      ],
      "execution_count": 0,
      "outputs": []
    },
    {
      "metadata": {
        "id": "9aBOKi9m5qPr",
        "colab_type": "text"
      },
      "cell_type": "markdown",
      "source": [
        "**3.1 Volume shocks - If volume traded is 10% higher/lower than previous day - make a 0/1 boolean time series for shock, 0/1 dummy-coded time series for direction of shock.**"
      ]
    },
    {
      "metadata": {
        "id": "4LMOzm3d5oxA",
        "colab_type": "code",
        "colab": {}
      },
      "cell_type": "code",
      "source": [
        "#Previous Day Volume\n",
        "def previous_volume(stock):\n",
        "  stock[\"Previous Day Volume\"] = stock[\"Volume\"].shift(1)\n",
        "\n",
        "\n",
        "#Volume Shock\n",
        "def volume_shocks(stock):\n",
        "  stock[\"Volume Shock\"] = ((((abs(stock[\"Previous Day Volume\"]-stock[\"Volume\"]))/stock[\"Volume\"])*100)>10).astype(int)\n",
        "\n",
        "#Volume Shock Direction    \n",
        "def volume_shock_direction(stock):\n",
        "  if(stock[\"Volume Shock\"]==1):\n",
        "        #if volume is greater than previous day direction is 1 else 0\n",
        "        if(stock[\"Volume\"]-stock[\"Previous Day Volume\"]>0):\n",
        "            return 1\n",
        "        else:\n",
        "            return 0\n",
        "  else:\n",
        "        return float('nan')\n",
        "  "
      ],
      "execution_count": 0,
      "outputs": []
    },
    {
      "metadata": {
        "id": "ZSzmjHb36EYw",
        "colab_type": "code",
        "colab": {}
      },
      "cell_type": "code",
      "source": [
        "for stock in stocks:\n",
        "  previous_volume(stock)\n",
        "  volume_shocks(stock)\n",
        "  stock[\"Volume Shock Direction\"] = stock.apply(volume_shock_direction,axis=1)\n",
        "  #display stock dataframe\n",
        "  print(\"Data Of \"+stock.name)\n",
        "  display(stock)\n",
        "  \n"
      ],
      "execution_count": 0,
      "outputs": []
    },
    {
      "metadata": {
        "id": "txvnAL4m_00R",
        "colab_type": "text"
      },
      "cell_type": "markdown",
      "source": [
        "**3.2 Price shocks  & Pricing black swan - If closing price at T vs T+1 has a difference > 2%, then 0/1 boolean time series for shock, 0/1 dummy-coded time series for direction of shock\n",
        "(3.2 & 3.3 both are same)**"
      ]
    },
    {
      "metadata": {
        "id": "R9LuRCI07GpO",
        "colab_type": "code",
        "colab": {}
      },
      "cell_type": "code",
      "source": [
        "#Next Day Close\n",
        "def next_close(stock):\n",
        "  stock[\"Next Day Close\"] = stock[\"Close\"].shift(-1)\n",
        "\n",
        "\n",
        "#Price Shock\n",
        "def price_shocks(stock):\n",
        "  stock[\"Price Shock\"] = ((((abs(stock[\"Next Day Close\"]-stock[\"Close\"]))/stock[\"Close\"])*100)>2).astype(int)\n",
        "\n",
        "#Price Shock Direction    \n",
        "def price_shock_direction(stock):\n",
        "  if(stock[\"Price Shock\"]==1):\n",
        "        #if close is greater than next day direction is 1 else 0\n",
        "        if(stock[\"Close\"]-stock[\"Next Day Close\"]>0):\n",
        "            return 1\n",
        "        else:\n",
        "            return 0\n",
        "  else:\n",
        "        return float('nan')\n",
        "  "
      ],
      "execution_count": 0,
      "outputs": []
    },
    {
      "metadata": {
        "id": "gN28xBD48CUf",
        "colab_type": "code",
        "colab": {}
      },
      "cell_type": "code",
      "source": [
        "for stock in stocks:\n",
        "  next_close(stock)\n",
        "  price_shocks(stock)\n",
        "  stock[\"Price Shock Direction\"] = stock.apply(price_shock_direction,axis=1)\n",
        "  #display stock dataframe\n",
        "  print(\"Data Of \"+stock.name)\n",
        "  display(stock)\n",
        "  \n"
      ],
      "execution_count": 0,
      "outputs": []
    },
    {
      "metadata": {
        "id": "3IPW9bQfNAeZ",
        "colab_type": "text"
      },
      "cell_type": "markdown",
      "source": [
        "**3.4 Pricing shock without volume shock - based on points a & b - Make a 0/1 dummy time series.\n",
        " **"
      ]
    },
    {
      "metadata": {
        "id": "7DUx23KbKZ-I",
        "colab_type": "code",
        "colab": {}
      },
      "cell_type": "code",
      "source": [
        "def pshock_without_vshock(stock):  \n",
        "  stock[\"Pshock W/O Vshock\"] = ((~stock[\"Volume Shock\"]) & stock[\"Price Shock\"]).astype(int)"
      ],
      "execution_count": 0,
      "outputs": []
    },
    {
      "metadata": {
        "id": "9gzWP8IMOQwR",
        "colab_type": "code",
        "colab": {}
      },
      "cell_type": "code",
      "source": [
        "for stock in stocks:\n",
        "  pshock_without_vshock(stock)\n",
        "  #display stock dataframe\n",
        "  print(\"Data Of \"+stock.name)\n",
        "  display(stock)\n",
        "  \n"
      ],
      "execution_count": 0,
      "outputs": []
    },
    {
      "metadata": {
        "id": "wRLiiqU6PVaE",
        "colab_type": "text"
      },
      "cell_type": "markdown",
      "source": [
        "#                                                                                             Part 2"
      ]
    },
    {
      "metadata": {
        "id": "2XL1jwkBQGO1",
        "colab_type": "text"
      },
      "cell_type": "markdown",
      "source": [
        "**Import Plotting Packages and Library**"
      ]
    },
    {
      "metadata": {
        "id": "y4iwvyUrOe6f",
        "colab_type": "code",
        "colab": {}
      },
      "cell_type": "code",
      "source": [
        "from bokeh.plotting import figure, show, output_file, output_notebook\n",
        "from bokeh.palettes import Spectral11, colorblind, Inferno, BuGn, brewer,GnBu,Blues\n",
        "from bokeh.models import HoverTool, value, LabelSet, Legend, ColumnDataSource,LinearColorMapper,BasicTicker, PrintfTickFormatter, ColorBar\n",
        "from statsmodels.tsa.stattools import acf, pacf"
      ],
      "execution_count": 0,
      "outputs": []
    },
    {
      "metadata": {
        "id": "aZhPgwNKP_fC",
        "colab_type": "code",
        "colab": {}
      },
      "cell_type": "code",
      "source": [
        "output_notebook()"
      ],
      "execution_count": 0,
      "outputs": []
    },
    {
      "metadata": {
        "id": "Yv4tZvrJUEz_",
        "colab_type": "code",
        "colab": {}
      },
      "cell_type": "code",
      "source": [
        "def bokeh_visual(stock):\n",
        "    print(stock.name)\n",
        "    fig = figure(x_axis_type=\"datetime\")\n",
        "    \n",
        "    #Color timeseries in simple blue color\n",
        "    fig.line(stock['Date'], stock['Close'], color='blue', alpha=0.5)\n",
        "    \n",
        "    #Color timeseries between two volume shocks in a different color (Red)\n",
        "    flag = False\n",
        "    last = 0\n",
        "    segments = []\n",
        "    for i in range(len(stock[\"Volume Shock\"])):\n",
        "        if(stock[\"Volume Shock\"][i] and flag):\n",
        "                fig.line(stock['Date'][last:i], stock['Close'][last:i], color='red', alpha=0.5)\n",
        "                segments.append((last,i))\n",
        "                flag = False\n",
        "        elif(stock[\"Volume Shock\"][i]):\n",
        "                last = i\n",
        "                flag = True\n",
        "              \n",
        "    #Mark closing Pricing shock without volume shock to identify volumeless price movement\n",
        "    fig.circle(stock.index, stock.Close*stock[\"Pshock W/O Vshock\"], size=4, legend='Price Shock W/O Volume Shock')\n",
        "    show(fig)"
      ],
      "execution_count": 0,
      "outputs": []
    },
    {
      "metadata": {
        "id": "Byf7hTnQUbvd",
        "colab_type": "code",
        "colab": {}
      },
      "cell_type": "code",
      "source": [
        "for stock in stocks:\n",
        "    bokeh_visual(stock)"
      ],
      "execution_count": 0,
      "outputs": []
    },
    {
      "metadata": {
        "id": "ZYGVwtrBVx5W",
        "colab_type": "code",
        "colab": {}
      },
      "cell_type": "code",
      "source": [
        "#Hand craft partial autocorrelation plot for each stock/index on upto all lookbacks on bokeh\n",
        "def plot_pacf(stock):\n",
        "    print(stock.name)\n",
        "    lags = 50\n",
        "    x = list(range(lags))\n",
        "    fig = figure(plot_height=500, title=\"Partial Autocorrelation Plot \" +stock.name)\n",
        "    partial_autocorr = pacf(stock[\"Close\"], nlags=lags-1)\n",
        "    fig.vbar(x=x, top=partial_autocorr, width=0.9)\n",
        "    show(fig)"
      ],
      "execution_count": 0,
      "outputs": []
    },
    {
      "metadata": {
        "id": "8HSRx3Mqjct4",
        "colab_type": "code",
        "colab": {
          "base_uri": "https://localhost:8080/",
          "height": 52
        },
        "outputId": "c223c986-1457-4d91-a76b-ab2ba67d1655"
      },
      "cell_type": "code",
      "source": [
        "for stock in stocks:\n",
        "    plot_pacf(stock)"
      ],
      "execution_count": 26,
      "outputs": [
        {
          "output_type": "stream",
          "text": [
            "TCS\n"
          ],
          "name": "stdout"
        },
        {
          "output_type": "display_data",
          "data": {
            "text/html": [
              "\n",
              "\n",
              "\n",
              "\n",
              "\n",
              "\n",
              "  <div class=\"bk-root\" id=\"bdfaa37a-7ad5-4d09-a77f-f4ea7bdbbded\" data-root-id=\"5926\"></div>\n"
            ]
          },
          "metadata": {
            "tags": []
          }
        },
        {
          "output_type": "display_data",
          "data": {
            "application/javascript": [
              "(function(root) {\n",
              "  function embed_document(root) {\n",
              "    \n",
              "  var docs_json = {\"ff35d0c2-1dd1-4f33-8092-b36b484d0955\":{\"roots\":{\"references\":[{\"attributes\":{\"below\":[{\"id\":\"5936\",\"type\":\"LinearAxis\"}],\"left\":[{\"id\":\"5941\",\"type\":\"LinearAxis\"}],\"plot_height\":500,\"renderers\":[{\"id\":\"5936\",\"type\":\"LinearAxis\"},{\"id\":\"5940\",\"type\":\"Grid\"},{\"id\":\"5941\",\"type\":\"LinearAxis\"},{\"id\":\"5945\",\"type\":\"Grid\"},{\"id\":\"5954\",\"type\":\"BoxAnnotation\"},{\"id\":\"5964\",\"type\":\"GlyphRenderer\"}],\"title\":{\"id\":\"5925\",\"type\":\"Title\"},\"toolbar\":{\"id\":\"5952\",\"type\":\"Toolbar\"},\"x_range\":{\"id\":\"5928\",\"type\":\"DataRange1d\"},\"x_scale\":{\"id\":\"5932\",\"type\":\"LinearScale\"},\"y_range\":{\"id\":\"5930\",\"type\":\"DataRange1d\"},\"y_scale\":{\"id\":\"5934\",\"type\":\"LinearScale\"}},\"id\":\"5926\",\"subtype\":\"Figure\",\"type\":\"Plot\"},{\"attributes\":{},\"id\":\"5947\",\"type\":\"WheelZoomTool\"},{\"attributes\":{\"active_drag\":\"auto\",\"active_inspect\":\"auto\",\"active_multi\":null,\"active_scroll\":\"auto\",\"active_tap\":\"auto\",\"tools\":[{\"id\":\"5946\",\"type\":\"PanTool\"},{\"id\":\"5947\",\"type\":\"WheelZoomTool\"},{\"id\":\"5948\",\"type\":\"BoxZoomTool\"},{\"id\":\"5949\",\"type\":\"SaveTool\"},{\"id\":\"5950\",\"type\":\"ResetTool\"},{\"id\":\"5951\",\"type\":\"HelpTool\"}]},\"id\":\"5952\",\"type\":\"Toolbar\"},{\"attributes\":{\"overlay\":{\"id\":\"5954\",\"type\":\"BoxAnnotation\"}},\"id\":\"5948\",\"type\":\"BoxZoomTool\"},{\"attributes\":{\"fill_color\":{\"value\":\"#1f77b4\"},\"line_color\":{\"value\":\"#1f77b4\"},\"top\":{\"field\":\"top\"},\"width\":{\"value\":0.9},\"x\":{\"field\":\"x\"}},\"id\":\"5962\",\"type\":\"VBar\"},{\"attributes\":{\"plot\":null,\"text\":\"Partial Autocorrelation Plot TCS\"},\"id\":\"5925\",\"type\":\"Title\"},{\"attributes\":{},\"id\":\"5949\",\"type\":\"SaveTool\"},{\"attributes\":{\"fill_alpha\":{\"value\":0.1},\"fill_color\":{\"value\":\"#1f77b4\"},\"line_alpha\":{\"value\":0.1},\"line_color\":{\"value\":\"#1f77b4\"},\"top\":{\"field\":\"top\"},\"width\":{\"value\":0.9},\"x\":{\"field\":\"x\"}},\"id\":\"5963\",\"type\":\"VBar\"},{\"attributes\":{},\"id\":\"5951\",\"type\":\"HelpTool\"},{\"attributes\":{\"callback\":null,\"data\":{\"top\":{\"__ndarray__\":\"AAAAAAAA8D90zcFrJsLtP5k4W5ZVsru/mHSgMy6krL+Xbp+ZWzmiP6ycyA78/a0/x9Qy7Z+8pb910kKEGH2zP79DrWW2HLA/rdpPva6Spz+TNWOTs2m1v+3k//xBoJg/c7KeO5wyt78R7qabVrmwv1KCqNpX5Z8/LCZBFs5nsj8SUg4LeE9tv3SgkgiYlrk/wWg3R9kZsb97Azs0KHeFv3u9DmCfp6A/Iby+6c75wL8LjmcIh6+rPwu81Ja+2bA/cHHOsFsAsr+ljC1Tize/vzBeWSFh2ai/HrAx9J2SsT/qFluy+sKtP5FCW5BbMrY/8Cjd1yDGsT8wXc1Taq2xvzMQUrbUibS/9RVRx5iZwL/cwhk+n4y3v/LsS6JDnLK/jeawuVyopr+S9Xcr18O4v0zOCoPa/LI/89D/tPYOoT9ESyif/RydvxvHipe1EKA/Ay1VD7Cjpz/HvM+4GjKyv+8L9c6lXbw/2HWaXtVgqT8Ayx5LRlStP7/DVO9pdF2/MwHxZ73Zvj8aqnOt3VKTPw==\",\"dtype\":\"float64\",\"shape\":[50]},\"x\":[0,1,2,3,4,5,6,7,8,9,10,11,12,13,14,15,16,17,18,19,20,21,22,23,24,25,26,27,28,29,30,31,32,33,34,35,36,37,38,39,40,41,42,43,44,45,46,47,48,49]},\"selected\":{\"id\":\"6423\",\"type\":\"Selection\"},\"selection_policy\":{\"id\":\"6422\",\"type\":\"UnionRenderers\"}},\"id\":\"5961\",\"type\":\"ColumnDataSource\"},{\"attributes\":{},\"id\":\"5950\",\"type\":\"ResetTool\"},{\"attributes\":{\"dimension\":1,\"plot\":{\"id\":\"5926\",\"subtype\":\"Figure\",\"type\":\"Plot\"},\"ticker\":{\"id\":\"5942\",\"type\":\"BasicTicker\"}},\"id\":\"5945\",\"type\":\"Grid\"},{\"attributes\":{\"source\":{\"id\":\"5961\",\"type\":\"ColumnDataSource\"}},\"id\":\"5965\",\"type\":\"CDSView\"},{\"attributes\":{},\"id\":\"6422\",\"type\":\"UnionRenderers\"},{\"attributes\":{\"data_source\":{\"id\":\"5961\",\"type\":\"ColumnDataSource\"},\"glyph\":{\"id\":\"5962\",\"type\":\"VBar\"},\"hover_glyph\":null,\"muted_glyph\":null,\"nonselection_glyph\":{\"id\":\"5963\",\"type\":\"VBar\"},\"selection_glyph\":null,\"view\":{\"id\":\"5965\",\"type\":\"CDSView\"}},\"id\":\"5964\",\"type\":\"GlyphRenderer\"},{\"attributes\":{\"bottom_units\":\"screen\",\"fill_alpha\":{\"value\":0.5},\"fill_color\":{\"value\":\"lightgrey\"},\"left_units\":\"screen\",\"level\":\"overlay\",\"line_alpha\":{\"value\":1.0},\"line_color\":{\"value\":\"black\"},\"line_dash\":[4,4],\"line_width\":{\"value\":2},\"plot\":null,\"render_mode\":\"css\",\"right_units\":\"screen\",\"top_units\":\"screen\"},\"id\":\"5954\",\"type\":\"BoxAnnotation\"},{\"attributes\":{},\"id\":\"5942\",\"type\":\"BasicTicker\"},{\"attributes\":{\"callback\":null},\"id\":\"5928\",\"type\":\"DataRange1d\"},{\"attributes\":{\"formatter\":{\"id\":\"6418\",\"type\":\"BasicTickFormatter\"},\"plot\":{\"id\":\"5926\",\"subtype\":\"Figure\",\"type\":\"Plot\"},\"ticker\":{\"id\":\"5942\",\"type\":\"BasicTicker\"}},\"id\":\"5941\",\"type\":\"LinearAxis\"},{\"attributes\":{\"callback\":null},\"id\":\"5930\",\"type\":\"DataRange1d\"},{\"attributes\":{\"plot\":{\"id\":\"5926\",\"subtype\":\"Figure\",\"type\":\"Plot\"},\"ticker\":{\"id\":\"5937\",\"type\":\"BasicTicker\"}},\"id\":\"5940\",\"type\":\"Grid\"},{\"attributes\":{},\"id\":\"5932\",\"type\":\"LinearScale\"},{\"attributes\":{},\"id\":\"6423\",\"type\":\"Selection\"},{\"attributes\":{},\"id\":\"5934\",\"type\":\"LinearScale\"},{\"attributes\":{},\"id\":\"6420\",\"type\":\"BasicTickFormatter\"},{\"attributes\":{},\"id\":\"6418\",\"type\":\"BasicTickFormatter\"},{\"attributes\":{},\"id\":\"5937\",\"type\":\"BasicTicker\"},{\"attributes\":{\"formatter\":{\"id\":\"6420\",\"type\":\"BasicTickFormatter\"},\"plot\":{\"id\":\"5926\",\"subtype\":\"Figure\",\"type\":\"Plot\"},\"ticker\":{\"id\":\"5937\",\"type\":\"BasicTicker\"}},\"id\":\"5936\",\"type\":\"LinearAxis\"},{\"attributes\":{},\"id\":\"5946\",\"type\":\"PanTool\"}],\"root_ids\":[\"5926\"]},\"title\":\"Bokeh Application\",\"version\":\"1.0.4\"}};\n",
              "  var render_items = [{\"docid\":\"ff35d0c2-1dd1-4f33-8092-b36b484d0955\",\"roots\":{\"5926\":\"bdfaa37a-7ad5-4d09-a77f-f4ea7bdbbded\"}}];\n",
              "  root.Bokeh.embed.embed_items_notebook(docs_json, render_items);\n",
              "\n",
              "  }\n",
              "  if (root.Bokeh !== undefined) {\n",
              "    embed_document(root);\n",
              "  } else {\n",
              "    var attempts = 0;\n",
              "    var timer = setInterval(function(root) {\n",
              "      if (root.Bokeh !== undefined) {\n",
              "        embed_document(root);\n",
              "        clearInterval(timer);\n",
              "      }\n",
              "      attempts++;\n",
              "      if (attempts > 100) {\n",
              "        console.log(\"Bokeh: ERROR: Unable to run BokehJS code because BokehJS library is missing\");\n",
              "        clearInterval(timer);\n",
              "      }\n",
              "    }, 10, root)\n",
              "  }\n",
              "})(window);"
            ],
            "application/vnd.bokehjs_exec.v0+json": ""
          },
          "metadata": {
            "tags": [],
            "application/vnd.bokehjs_exec.v0+json": {
              "id": "5926"
            }
          }
        },
        {
          "output_type": "stream",
          "text": [
            "INFY\n"
          ],
          "name": "stdout"
        },
        {
          "output_type": "display_data",
          "data": {
            "text/html": [
              "\n",
              "\n",
              "\n",
              "\n",
              "\n",
              "\n",
              "  <div class=\"bk-root\" id=\"211c73ab-ccbe-49c1-988e-9579d94af026\" data-root-id=\"6473\"></div>\n"
            ]
          },
          "metadata": {
            "tags": []
          }
        },
        {
          "output_type": "display_data",
          "data": {
            "application/javascript": [
              "(function(root) {\n",
              "  function embed_document(root) {\n",
              "    \n",
              "  var docs_json = {\"5d2cfd53-1709-4132-b376-4e98e753ad90\":{\"roots\":{\"references\":[{\"attributes\":{\"below\":[{\"id\":\"6483\",\"type\":\"LinearAxis\"}],\"left\":[{\"id\":\"6488\",\"type\":\"LinearAxis\"}],\"plot_height\":500,\"renderers\":[{\"id\":\"6483\",\"type\":\"LinearAxis\"},{\"id\":\"6487\",\"type\":\"Grid\"},{\"id\":\"6488\",\"type\":\"LinearAxis\"},{\"id\":\"6492\",\"type\":\"Grid\"},{\"id\":\"6501\",\"type\":\"BoxAnnotation\"},{\"id\":\"6511\",\"type\":\"GlyphRenderer\"}],\"title\":{\"id\":\"6472\",\"type\":\"Title\"},\"toolbar\":{\"id\":\"6499\",\"type\":\"Toolbar\"},\"x_range\":{\"id\":\"6475\",\"type\":\"DataRange1d\"},\"x_scale\":{\"id\":\"6479\",\"type\":\"LinearScale\"},\"y_range\":{\"id\":\"6477\",\"type\":\"DataRange1d\"},\"y_scale\":{\"id\":\"6481\",\"type\":\"LinearScale\"}},\"id\":\"6473\",\"subtype\":\"Figure\",\"type\":\"Plot\"},{\"attributes\":{},\"id\":\"6494\",\"type\":\"WheelZoomTool\"},{\"attributes\":{\"callback\":null,\"data\":{\"top\":{\"__ndarray__\":\"AAAAAAAA8D8gcLZOZMfvPz0NX8hxFaO/4V73tUewpb8nNIL/LZe1P90yp0vgTqa/MaUfU/rqYb9DVT4P/961v/GbVRf6raS/rAG5a6BapD9MUjaDaH62vyVDxoeLPaA/u7DDydALX798j5LWdHqsP3A7f5riI7W/JsPtMs2Ar7+wZMErhm+jv4sLTUgw1Ji/tOB/4BviXb+cNP9hoi+dvyhMeGyU55c//5vBBTM+rz9xWLt8WPigPyQED5EB7ZM/EivpgePahb8BuqNApO2wv66+CXQW6n2/sww96vfpuj+/gA6IEselvw3cTZ9a46+/Im4zopYznb9yzNcgAnCgP3S43Vm92H+/OEb6cNdShr+DZoyrvi6xv8QeLhM9PX6/OLQu7mOjxr9mDg5QTz2xv0Hk0cXnD6g/ccAXzQ3fbj84lksr5m+uv4nPpxZjY7C/zqeZtH/MdT9PH7ebDUyZPzK6eS+quJA/4EOrC92RdD9MKjZfk5SBP1Gj0iQVVbg/h5Mem7Jzjr82zONGesqrvw==\",\"dtype\":\"float64\",\"shape\":[50]},\"x\":[0,1,2,3,4,5,6,7,8,9,10,11,12,13,14,15,16,17,18,19,20,21,22,23,24,25,26,27,28,29,30,31,32,33,34,35,36,37,38,39,40,41,42,43,44,45,46,47,48,49]},\"selected\":{\"id\":\"6978\",\"type\":\"Selection\"},\"selection_policy\":{\"id\":\"6977\",\"type\":\"UnionRenderers\"}},\"id\":\"6508\",\"type\":\"ColumnDataSource\"},{\"attributes\":{},\"id\":\"6493\",\"type\":\"PanTool\"},{\"attributes\":{\"plot\":null,\"text\":\"Partial Autocorrelation Plot INFY\"},\"id\":\"6472\",\"type\":\"Title\"},{\"attributes\":{\"dimension\":1,\"plot\":{\"id\":\"6473\",\"subtype\":\"Figure\",\"type\":\"Plot\"},\"ticker\":{\"id\":\"6489\",\"type\":\"BasicTicker\"}},\"id\":\"6492\",\"type\":\"Grid\"},{\"attributes\":{},\"id\":\"6481\",\"type\":\"LinearScale\"},{\"attributes\":{\"fill_color\":{\"value\":\"#1f77b4\"},\"line_color\":{\"value\":\"#1f77b4\"},\"top\":{\"field\":\"top\"},\"width\":{\"value\":0.9},\"x\":{\"field\":\"x\"}},\"id\":\"6509\",\"type\":\"VBar\"},{\"attributes\":{},\"id\":\"6496\",\"type\":\"SaveTool\"},{\"attributes\":{\"formatter\":{\"id\":\"6975\",\"type\":\"BasicTickFormatter\"},\"plot\":{\"id\":\"6473\",\"subtype\":\"Figure\",\"type\":\"Plot\"},\"ticker\":{\"id\":\"6484\",\"type\":\"BasicTicker\"}},\"id\":\"6483\",\"type\":\"LinearAxis\"},{\"attributes\":{\"fill_alpha\":{\"value\":0.1},\"fill_color\":{\"value\":\"#1f77b4\"},\"line_alpha\":{\"value\":0.1},\"line_color\":{\"value\":\"#1f77b4\"},\"top\":{\"field\":\"top\"},\"width\":{\"value\":0.9},\"x\":{\"field\":\"x\"}},\"id\":\"6510\",\"type\":\"VBar\"},{\"attributes\":{},\"id\":\"6498\",\"type\":\"HelpTool\"},{\"attributes\":{},\"id\":\"6497\",\"type\":\"ResetTool\"},{\"attributes\":{},\"id\":\"6489\",\"type\":\"BasicTicker\"},{\"attributes\":{},\"id\":\"6484\",\"type\":\"BasicTicker\"},{\"attributes\":{\"formatter\":{\"id\":\"6973\",\"type\":\"BasicTickFormatter\"},\"plot\":{\"id\":\"6473\",\"subtype\":\"Figure\",\"type\":\"Plot\"},\"ticker\":{\"id\":\"6489\",\"type\":\"BasicTicker\"}},\"id\":\"6488\",\"type\":\"LinearAxis\"},{\"attributes\":{\"callback\":null},\"id\":\"6475\",\"type\":\"DataRange1d\"},{\"attributes\":{\"bottom_units\":\"screen\",\"fill_alpha\":{\"value\":0.5},\"fill_color\":{\"value\":\"lightgrey\"},\"left_units\":\"screen\",\"level\":\"overlay\",\"line_alpha\":{\"value\":1.0},\"line_color\":{\"value\":\"black\"},\"line_dash\":[4,4],\"line_width\":{\"value\":2},\"plot\":null,\"render_mode\":\"css\",\"right_units\":\"screen\",\"top_units\":\"screen\"},\"id\":\"6501\",\"type\":\"BoxAnnotation\"},{\"attributes\":{\"active_drag\":\"auto\",\"active_inspect\":\"auto\",\"active_multi\":null,\"active_scroll\":\"auto\",\"active_tap\":\"auto\",\"tools\":[{\"id\":\"6493\",\"type\":\"PanTool\"},{\"id\":\"6494\",\"type\":\"WheelZoomTool\"},{\"id\":\"6495\",\"type\":\"BoxZoomTool\"},{\"id\":\"6496\",\"type\":\"SaveTool\"},{\"id\":\"6497\",\"type\":\"ResetTool\"},{\"id\":\"6498\",\"type\":\"HelpTool\"}]},\"id\":\"6499\",\"type\":\"Toolbar\"},{\"attributes\":{},\"id\":\"6479\",\"type\":\"LinearScale\"},{\"attributes\":{\"callback\":null},\"id\":\"6477\",\"type\":\"DataRange1d\"},{\"attributes\":{},\"id\":\"6978\",\"type\":\"Selection\"},{\"attributes\":{},\"id\":\"6973\",\"type\":\"BasicTickFormatter\"},{\"attributes\":{\"plot\":{\"id\":\"6473\",\"subtype\":\"Figure\",\"type\":\"Plot\"},\"ticker\":{\"id\":\"6484\",\"type\":\"BasicTicker\"}},\"id\":\"6487\",\"type\":\"Grid\"},{\"attributes\":{},\"id\":\"6975\",\"type\":\"BasicTickFormatter\"},{\"attributes\":{\"source\":{\"id\":\"6508\",\"type\":\"ColumnDataSource\"}},\"id\":\"6512\",\"type\":\"CDSView\"},{\"attributes\":{},\"id\":\"6977\",\"type\":\"UnionRenderers\"},{\"attributes\":{\"overlay\":{\"id\":\"6501\",\"type\":\"BoxAnnotation\"}},\"id\":\"6495\",\"type\":\"BoxZoomTool\"},{\"attributes\":{\"data_source\":{\"id\":\"6508\",\"type\":\"ColumnDataSource\"},\"glyph\":{\"id\":\"6509\",\"type\":\"VBar\"},\"hover_glyph\":null,\"muted_glyph\":null,\"nonselection_glyph\":{\"id\":\"6510\",\"type\":\"VBar\"},\"selection_glyph\":null,\"view\":{\"id\":\"6512\",\"type\":\"CDSView\"}},\"id\":\"6511\",\"type\":\"GlyphRenderer\"}],\"root_ids\":[\"6473\"]},\"title\":\"Bokeh Application\",\"version\":\"1.0.4\"}};\n",
              "  var render_items = [{\"docid\":\"5d2cfd53-1709-4132-b376-4e98e753ad90\",\"roots\":{\"6473\":\"211c73ab-ccbe-49c1-988e-9579d94af026\"}}];\n",
              "  root.Bokeh.embed.embed_items_notebook(docs_json, render_items);\n",
              "\n",
              "  }\n",
              "  if (root.Bokeh !== undefined) {\n",
              "    embed_document(root);\n",
              "  } else {\n",
              "    var attempts = 0;\n",
              "    var timer = setInterval(function(root) {\n",
              "      if (root.Bokeh !== undefined) {\n",
              "        embed_document(root);\n",
              "        clearInterval(timer);\n",
              "      }\n",
              "      attempts++;\n",
              "      if (attempts > 100) {\n",
              "        console.log(\"Bokeh: ERROR: Unable to run BokehJS code because BokehJS library is missing\");\n",
              "        clearInterval(timer);\n",
              "      }\n",
              "    }, 10, root)\n",
              "  }\n",
              "})(window);"
            ],
            "application/vnd.bokehjs_exec.v0+json": ""
          },
          "metadata": {
            "tags": [],
            "application/vnd.bokehjs_exec.v0+json": {
              "id": "6473"
            }
          }
        }
      ]
    },
    {
      "metadata": {
        "id": "8wyHRoULje_u",
        "colab_type": "code",
        "colab": {}
      },
      "cell_type": "code",
      "source": [
        ""
      ],
      "execution_count": 0,
      "outputs": []
    }
  ]
}