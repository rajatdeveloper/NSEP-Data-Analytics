{
  "nbformat": 4,
  "nbformat_minor": 0,
  "metadata": {
    "colab": {
      "name": "Part1 & Part2.ipynb",
      "version": "0.3.2",
      "provenance": [],
      "collapsed_sections": [],
      "include_colab_link": true
    },
    "kernelspec": {
      "name": "python3",
      "display_name": "Python 3"
    }
  },
  "cells": [
    {
      "cell_type": "markdown",
      "metadata": {
        "id": "view-in-github",
        "colab_type": "text"
      },
      "source": [
        "<a href=\"https://colab.research.google.com/github/rajatdeveloper/NSEP-Data-Analytics/blob/master/Part1_%26_Part2.ipynb\" target=\"_parent\"><img src=\"https://colab.research.google.com/assets/colab-badge.svg\" alt=\"Open In Colab\"/></a>"
      ]
    },
    {
      "metadata": {
        "id": "VtMuIESQetsc",
        "colab_type": "text"
      },
      "cell_type": "markdown",
      "source": [
        "# Installing &  Importing Dataset and Packages"
      ]
    },
    {
      "metadata": {
        "id": "tYmwGaKnPhDk",
        "colab_type": "text"
      },
      "cell_type": "markdown",
      "source": [
        "# Data Preprocessing"
      ]
    },
    {
      "metadata": {
        "id": "P1Nt4yCKPcxX",
        "colab_type": "text"
      },
      "cell_type": "markdown",
      "source": [
        "**Import Dataset**"
      ]
    },
    {
      "metadata": {
        "id": "cfonVvlYZIki",
        "colab_type": "code",
        "colab": {}
      },
      "cell_type": "code",
      "source": [
        "pip install nsepy"
      ],
      "execution_count": 0,
      "outputs": []
    },
    {
      "metadata": {
        "id": "C52wibrWPuuo",
        "colab_type": "text"
      },
      "cell_type": "markdown",
      "source": [
        "**Import Packages and Library**"
      ]
    },
    {
      "metadata": {
        "id": "bTosTzPKaSLH",
        "colab_type": "code",
        "colab": {}
      },
      "cell_type": "code",
      "source": [
        "from datetime import date,timedelta\n",
        "from nsepy import get_history\n",
        "import numpy as np\n",
        "import pandas as pd\n",
        "from pandas import datetime\n",
        "import matplotlib.pyplot as plt\n",
        "import math\n",
        "%matplotlib inline\n",
        "%pylab inline\n",
        "pylab.rcParams['figure.figsize'] = (20, 12)"
      ],
      "execution_count": 0,
      "outputs": []
    },
    {
      "metadata": {
        "id": "q1r7_5tKSV10",
        "colab_type": "text"
      },
      "cell_type": "markdown",
      "source": [
        "**NSE stocks (INFY,TCS) between 2015-2016**"
      ]
    },
    {
      "metadata": {
        "id": "fyR7r-8E3r7x",
        "colab_type": "code",
        "colab": {}
      },
      "cell_type": "code",
      "source": [
        "number_of_days = 365\n",
        "#start date\n",
        "strt = date(2015,1,1)\n",
        "#end date\n",
        "ends = strt+timedelta(days=number_of_days)\n",
        "#fetches the price history of stocks\n",
        "TCS = get_history(symbol='TCS',\n",
        "                    start= strt,\n",
        "                    end=ends)\n",
        "\n"
      ],
      "execution_count": 0,
      "outputs": []
    },
    {
      "metadata": {
        "id": "TVr39Z8beSgf",
        "colab_type": "code",
        "colab": {}
      },
      "cell_type": "code",
      "source": [
        "TCS"
      ],
      "execution_count": 0,
      "outputs": []
    },
    {
      "metadata": {
        "id": "PhtXwaGO4pXU",
        "colab_type": "code",
        "colab": {}
      },
      "cell_type": "code",
      "source": [
        "number_of_days = 365\n",
        "#start date\n",
        "strt = date(2015,1,1)\n",
        "#end date\n",
        "ends = strt+timedelta(days=number_of_days)\n",
        "#fetches the price history of stocks\n",
        "INFY = get_history(symbol='INFY',\n",
        "                    start= strt,\n",
        "                    end=ends)"
      ],
      "execution_count": 0,
      "outputs": []
    },
    {
      "metadata": {
        "id": "u8x8LRLIeWxn",
        "colab_type": "code",
        "colab": {}
      },
      "cell_type": "code",
      "source": [
        "INFY"
      ],
      "execution_count": 0,
      "outputs": []
    },
    {
      "metadata": {
        "id": "mqU-HERUTEPO",
        "colab_type": "text"
      },
      "cell_type": "markdown",
      "source": [
        "**Type Casting Date**"
      ]
    },
    {
      "metadata": {
        "id": "zE37wgXCeZYj",
        "colab_type": "code",
        "colab": {}
      },
      "cell_type": "code",
      "source": [
        "def type_casting(stock):\n",
        "    #reset the index\n",
        "    stock = stock.reset_index()\n",
        "    #typecast the Date datatype    \n",
        "    stock[\"Date\"] = pd.to_datetime(stock[\"Date\"])\n",
        "    #assign the index\n",
        "    stock.index = stock['Date']\n",
        "    return stock"
      ],
      "execution_count": 0,
      "outputs": []
    },
    {
      "metadata": {
        "id": "L2ig-0Qbgssk",
        "colab_type": "code",
        "colab": {}
      },
      "cell_type": "code",
      "source": [
        "TCS = type_casting(TCS)\n",
        "INFY = type_casting(INFY)\n",
        "#Assign name to stocks\n",
        "TCS.name = 'TCS'\n",
        "INFY.name = 'INFY'"
      ],
      "execution_count": 0,
      "outputs": []
    },
    {
      "metadata": {
        "id": "8EvLlU9Ojk7V",
        "colab_type": "code",
        "colab": {}
      },
      "cell_type": "code",
      "source": [
        "#create list of stock\n",
        "stocks = [TCS,INFY]"
      ],
      "execution_count": 0,
      "outputs": []
    },
    {
      "metadata": {
        "id": "XJGLLFhobRw_",
        "colab_type": "text"
      },
      "cell_type": "markdown",
      "source": [
        "#                                                                                             Part 1"
      ]
    },
    {
      "metadata": {
        "id": "wDsqSzcobV3p",
        "colab_type": "text"
      },
      "cell_type": "markdown",
      "source": [
        "**1. Create 4,16,....,52 week moving average(closing price) for each stock and index. This should happen through a function.**"
      ]
    },
    {
      "metadata": {
        "id": "zfpaZxf31ZG9",
        "colab_type": "text"
      },
      "cell_type": "markdown",
      "source": [
        "Assumption : Assume the size of a week is 5 day (Monday-Friday) and ignore the other holidays.\n",
        "Can't compute 52-week moving avergae because of other holidays"
      ]
    },
    {
      "metadata": {
        "id": "HiJtAoiRg8PR",
        "colab_type": "text"
      },
      "cell_type": "markdown",
      "source": [
        "**Moving Average Implementation**"
      ]
    },
    {
      "metadata": {
        "id": "A4gnDEhbbU49",
        "colab_type": "code",
        "colab": {}
      },
      "cell_type": "code",
      "source": [
        "#Moving Avergae Function\n",
        "def moving_average(values, size):\n",
        "    return np.convolve(values, np.ones(size), 'valid')/ size"
      ],
      "execution_count": 0,
      "outputs": []
    },
    {
      "metadata": {
        "id": "sWBfnDohevo_",
        "colab_type": "code",
        "colab": {}
      },
      "cell_type": "code",
      "source": [
        "#Append Moving Average in Dataset & Plot Line Chart Of Moving Average\n",
        "def plot_moving_average(stock):\n",
        "  \n",
        "  #creating array of window size\n",
        "  window_arr = [4,16,28,40]\n",
        "  day = 5\n",
        "  moving_average_dict = {}\n",
        "  \n",
        "  #Plot of closing price of stock\n",
        "  plt.title(\"Moving Average Of \"+stock.name+\" Stock\",fontsize=20)\n",
        "  plt.xlabel(\"Date\",fontsize=15) \n",
        "  plt.ylabel(\"Price\",fontsize=20)\n",
        "  #Plot of original closing price of stock\n",
        "  plt.plot(stock[\"Date\"],stock[\"Close\"],label=\"Closing pricing\",linestyle='--',linewidth=2)\n",
        "  \n",
        "  for size in window_arr:\n",
        "   \n",
        "    #dummy array for starting date to resize the frame as original \n",
        "    NA = [float('nan') for i in range(size*day-1)]\n",
        "    NA = np.array(NA)\n",
        "    #append dummy array with moving average\n",
        "    moving_average_dict[size] = np.hstack([NA,moving_average(stock[\"Close\"],size*day)])\n",
        "   \n",
        "    #append moving average to original dataframe of stock\n",
        "    temp = \"Moving Average \"+str(size)+\"-week\"\n",
        "    stock[temp] = moving_average_dict[size]\n",
        "    \n",
        "    #Plot of moving average of closing price of stock\n",
        "    plt.plot(stock[\"Date\"],stock[temp],label = temp,linewidth=2)\n",
        "  \n",
        "  print(\"Data Of \"+stock.name)\n",
        "  #display stock dataframe\n",
        "  display(stock)\n",
        "  \n",
        "  plt.legend(title = \"Legends\",loc = 3,prop={'size': 12})\n",
        "  plt.show()"
      ],
      "execution_count": 0,
      "outputs": []
    },
    {
      "metadata": {
        "id": "ZjktoF1ngyha",
        "colab_type": "code",
        "colab": {}
      },
      "cell_type": "code",
      "source": [
        "for stock in stocks:\n",
        "  plot_moving_average(stock)\n"
      ],
      "execution_count": 0,
      "outputs": []
    },
    {
      "metadata": {
        "id": "J7GsqK6DO5VP",
        "colab_type": "text"
      },
      "cell_type": "markdown",
      "source": [
        "**2. Create rolling window of size 10 on each stock/index. Handle unequal time series due to stock market holidays. You should look to increase your rolling window size to 75 and see how the data looks like.**"
      ]
    },
    {
      "metadata": {
        "id": "IpdFmZKDDd2m",
        "colab_type": "code",
        "colab": {}
      },
      "cell_type": "code",
      "source": [
        "def rolling_window(stock):\n",
        "    #creating array of Rolling window size\n",
        "    rolling_arr = [10,75]\n",
        "    \n",
        "    #Plot of closing price of stock\n",
        "    plt.title(\"Moving Average Of \"+stock.name+\" Stock\",fontsize=20)\n",
        "    plt.xlabel(\"Date\",fontsize=15) \n",
        "    plt.ylabel(\"Price\",fontsize=20)  \n",
        "    #Plot of original closing price of stock\n",
        "    plt.plot(stock[\"Date\"],stock[\"Close\"],label=\"Closing pricing\",linestyle='--',linewidth=2)\n",
        "\n",
        "    for size in rolling_arr:\n",
        "        temp = \"Rolling Window \"+str(size) \n",
        "        \n",
        "        #append rolling window average to original dataframe of stock\n",
        "        stock[temp] = np.round(stock[\"Close\"].rolling(window = size, center = False).mean(), 2)\n",
        "        \n",
        "        #Plot of rolling window average of closing price of stock\n",
        "        plt.plot(stock[\"Date\"],stock[temp],label = temp,linewidth=2)\n",
        "    \n",
        "    print(\"Data Of \"+stock.name)\n",
        "    #display stock dataframe\n",
        "    display(stock)\n",
        "    \n",
        "    plt.legend(title = \"Legends\",loc = 3,prop={'size': 12})\n",
        "    plt.show()"
      ],
      "execution_count": 0,
      "outputs": []
    },
    {
      "metadata": {
        "id": "gEXAaKrErfrG",
        "colab_type": "code",
        "colab": {}
      },
      "cell_type": "code",
      "source": [
        "for stock in stocks:\n",
        "  rolling_window(stock)\n"
      ],
      "execution_count": 0,
      "outputs": []
    },
    {
      "metadata": {
        "id": "9aBOKi9m5qPr",
        "colab_type": "text"
      },
      "cell_type": "markdown",
      "source": [
        "**3.1 Volume shocks - If volume traded is 10% higher/lower than previous day - make a 0/1 boolean time series for shock, 0/1 dummy-coded time series for direction of shock.**"
      ]
    },
    {
      "metadata": {
        "id": "4LMOzm3d5oxA",
        "colab_type": "code",
        "colab": {}
      },
      "cell_type": "code",
      "source": [
        "#Previous Day Volume\n",
        "def previous_volume(stock):\n",
        "  stock[\"Previous Day Volume\"] = stock[\"Volume\"].shift(1)\n",
        "\n",
        "\n",
        "#Volume Shock\n",
        "def volume_shocks(stock):\n",
        "  stock[\"Volume Shock\"] = ((((abs(stock[\"Previous Day Volume\"]-stock[\"Volume\"]))/stock[\"Volume\"])*100)>10).astype(int)\n",
        "\n",
        "#Volume Shock Direction    \n",
        "def volume_shock_direction(stock):\n",
        "  if(stock[\"Volume Shock\"]==1):\n",
        "        #if volume is greater than previous day direction is 1 else 0\n",
        "        if(stock[\"Volume\"]-stock[\"Previous Day Volume\"]>0):\n",
        "            return 1\n",
        "        else:\n",
        "            return 0\n",
        "  else:\n",
        "        return float('nan')\n",
        "  "
      ],
      "execution_count": 0,
      "outputs": []
    },
    {
      "metadata": {
        "id": "ZSzmjHb36EYw",
        "colab_type": "code",
        "colab": {}
      },
      "cell_type": "code",
      "source": [
        "for stock in stocks:\n",
        "  previous_volume(stock)\n",
        "  volume_shocks(stock)\n",
        "  stock[\"Volume Shock Direction\"] = stock.apply(volume_shock_direction,axis=1)\n",
        "  #display stock dataframe\n",
        "  print(\"Data Of \"+stock.name)\n",
        "  display(stock)\n",
        "  \n"
      ],
      "execution_count": 0,
      "outputs": []
    },
    {
      "metadata": {
        "id": "txvnAL4m_00R",
        "colab_type": "text"
      },
      "cell_type": "markdown",
      "source": [
        "**3.2 Price shocks  & Pricing black swan - If closing price at T vs T+1 has a difference > 2%, then 0/1 boolean time series for shock, 0/1 dummy-coded time series for direction of shock\n",
        "(3.2 & 3.3 both are same)**"
      ]
    },
    {
      "metadata": {
        "id": "R9LuRCI07GpO",
        "colab_type": "code",
        "colab": {}
      },
      "cell_type": "code",
      "source": [
        "#Next Day Close\n",
        "def next_close(stock):\n",
        "  stock[\"Next Day Close\"] = stock[\"Close\"].shift(-1)\n",
        "\n",
        "\n",
        "#Price Shock\n",
        "def price_shocks(stock):\n",
        "  stock[\"Price Shock\"] = ((((abs(stock[\"Next Day Close\"]-stock[\"Close\"]))/stock[\"Close\"])*100)>2).astype(int)\n",
        "\n",
        "#Price Shock Direction    \n",
        "def price_shock_direction(stock):\n",
        "  if(stock[\"Price Shock\"]==1):\n",
        "        #if close is greater than next day direction is 1 else 0\n",
        "        if(stock[\"Close\"]-stock[\"Next Day Close\"]>0):\n",
        "            return 1\n",
        "        else:\n",
        "            return 0\n",
        "  else:\n",
        "        return float('nan')\n",
        "  "
      ],
      "execution_count": 0,
      "outputs": []
    },
    {
      "metadata": {
        "id": "gN28xBD48CUf",
        "colab_type": "code",
        "colab": {}
      },
      "cell_type": "code",
      "source": [
        "for stock in stocks:\n",
        "  next_close(stock)\n",
        "  price_shocks(stock)\n",
        "  stock[\"Price Shock Direction\"] = stock.apply(price_shock_direction,axis=1)\n",
        "  #display stock dataframe\n",
        "  print(\"Data Of \"+stock.name)\n",
        "  display(stock)\n",
        "  \n"
      ],
      "execution_count": 0,
      "outputs": []
    },
    {
      "metadata": {
        "id": "3IPW9bQfNAeZ",
        "colab_type": "text"
      },
      "cell_type": "markdown",
      "source": [
        "**3.4 Pricing shock without volume shock - based on points a & b - Make a 0/1 dummy time series.\n",
        " **"
      ]
    },
    {
      "metadata": {
        "id": "7DUx23KbKZ-I",
        "colab_type": "code",
        "colab": {}
      },
      "cell_type": "code",
      "source": [
        "def pshock_without_vshock(stock):  \n",
        "  stock[\"Pshock W/O Vshock\"] = ((~stock[\"Volume Shock\"]) & stock[\"Price Shock\"]).astype(int)"
      ],
      "execution_count": 0,
      "outputs": []
    },
    {
      "metadata": {
        "id": "9gzWP8IMOQwR",
        "colab_type": "code",
        "colab": {}
      },
      "cell_type": "code",
      "source": [
        "for stock in stocks:\n",
        "  pshock_without_vshock(stock)\n",
        "  #display stock dataframe\n",
        "  print(\"Data Of \"+stock.name)\n",
        "  display(stock)\n",
        "  \n"
      ],
      "execution_count": 0,
      "outputs": []
    },
    {
      "metadata": {
        "id": "wRLiiqU6PVaE",
        "colab_type": "text"
      },
      "cell_type": "markdown",
      "source": [
        "#                                                                                             Part 2"
      ]
    },
    {
      "metadata": {
        "id": "2XL1jwkBQGO1",
        "colab_type": "text"
      },
      "cell_type": "markdown",
      "source": [
        "**Import Plotting Packages and Library**"
      ]
    },
    {
      "metadata": {
        "id": "y4iwvyUrOe6f",
        "colab_type": "code",
        "colab": {}
      },
      "cell_type": "code",
      "source": [
        "from bokeh.plotting import figure, show, output_file, output_notebook\n",
        "from bokeh.palettes import Spectral11, colorblind, Inferno, BuGn, brewer,GnBu,Blues\n",
        "from bokeh.models import HoverTool, value, LabelSet, Legend, ColumnDataSource,LinearColorMapper,BasicTicker, PrintfTickFormatter, ColorBar\n",
        "from statsmodels.tsa.stattools import acf, pacf"
      ],
      "execution_count": 0,
      "outputs": []
    },
    {
      "metadata": {
        "id": "Yv4tZvrJUEz_",
        "colab_type": "code",
        "colab": {}
      },
      "cell_type": "code",
      "source": [
        "def bokeh_visual(stock):\n",
        "    output_notebook()\n",
        "    print(stock.name)\n",
        "    fig = figure(x_axis_type=\"datetime\")\n",
        "    \n",
        "    #Color timeseries in simple blue color\n",
        "    fig.line(stock['Date'], stock['Close'], color='blue', alpha=0.5)\n",
        "    \n",
        "    #Color timeseries between two volume shocks in a different color (Red)\n",
        "    flag = False\n",
        "    last = 0\n",
        "    segments = []\n",
        "    for i in range(len(stock[\"Volume Shock\"])):\n",
        "        if(stock[\"Volume Shock\"][i] and flag):\n",
        "                fig.line(stock['Date'][last:i], stock['Close'][last:i], color='red', alpha=0.5)\n",
        "                segments.append((last,i))\n",
        "                flag = False\n",
        "        elif(stock[\"Volume Shock\"][i]):\n",
        "                last = i\n",
        "                flag = True\n",
        "              \n",
        "    #Mark closing Pricing shock without volume shock to identify volumeless price movement\n",
        "    fig.circle(stock.index, stock.Close*stock[\"Pshock W/O Vshock\"], size=4, legend='Price Shock W/O Volume Shock')\n",
        "    show(fig)"
      ],
      "execution_count": 0,
      "outputs": []
    },
    {
      "metadata": {
        "id": "Byf7hTnQUbvd",
        "colab_type": "code",
        "colab": {}
      },
      "cell_type": "code",
      "source": [
        "for stock in stocks:\n",
        "    bokeh_visual(stock)"
      ],
      "execution_count": 0,
      "outputs": []
    },
    {
      "metadata": {
        "id": "ZYGVwtrBVx5W",
        "colab_type": "code",
        "colab": {}
      },
      "cell_type": "code",
      "source": [
        "#Hand craft partial autocorrelation plot for each stock/index on upto all lookbacks on bokeh\n",
        "def plot_pacf(stock):\n",
        "    output_notebook()\n",
        "    print(stock.name)\n",
        "    lags = 50\n",
        "    x = list(range(lags))\n",
        "    fig = figure(plot_height=500, title=\"Partial Autocorrelation Plot \" +stock.name)\n",
        "    partial_autocorr = pacf(stock[\"Close\"], nlags=lags-1)\n",
        "    fig.vbar(x=x, top=partial_autocorr, width=0.9)\n",
        "    show(fig)"
      ],
      "execution_count": 0,
      "outputs": []
    },
    {
      "metadata": {
        "id": "8HSRx3Mqjct4",
        "colab_type": "code",
        "colab": {
          "base_uri": "https://localhost:8080/",
          "height": 1112
        },
        "outputId": "d55df614-f0b2-4d53-94f7-be6333cf6ac3"
      },
      "cell_type": "code",
      "source": [
        "for stock in stocks:\n",
        "    plot_pacf(stock)"
      ],
      "execution_count": 30,
      "outputs": [
        {
          "output_type": "display_data",
          "data": {
            "text/html": [
              "\n",
              "    <div class=\"bk-root\">\n",
              "        <a href=\"https://bokeh.pydata.org\" target=\"_blank\" class=\"bk-logo bk-logo-small bk-logo-notebook\"></a>\n",
              "        <span id=\"12884\">Loading BokehJS ...</span>\n",
              "    </div>"
            ]
          },
          "metadata": {
            "tags": []
          }
        },
        {
          "output_type": "display_data",
          "data": {
            "application/javascript": [
              "\n",
              "(function(root) {\n",
              "  function now() {\n",
              "    return new Date();\n",
              "  }\n",
              "\n",
              "  var force = true;\n",
              "\n",
              "  if (typeof (root._bokeh_onload_callbacks) === \"undefined\" || force === true) {\n",
              "    root._bokeh_onload_callbacks = [];\n",
              "    root._bokeh_is_loading = undefined;\n",
              "  }\n",
              "\n",
              "  var JS_MIME_TYPE = 'application/javascript';\n",
              "  var HTML_MIME_TYPE = 'text/html';\n",
              "  var EXEC_MIME_TYPE = 'application/vnd.bokehjs_exec.v0+json';\n",
              "  var CLASS_NAME = 'output_bokeh rendered_html';\n",
              "\n",
              "  /**\n",
              "   * Render data to the DOM node\n",
              "   */\n",
              "  function render(props, node) {\n",
              "    var script = document.createElement(\"script\");\n",
              "    node.appendChild(script);\n",
              "  }\n",
              "\n",
              "  /**\n",
              "   * Handle when an output is cleared or removed\n",
              "   */\n",
              "  function handleClearOutput(event, handle) {\n",
              "    var cell = handle.cell;\n",
              "\n",
              "    var id = cell.output_area._bokeh_element_id;\n",
              "    var server_id = cell.output_area._bokeh_server_id;\n",
              "    // Clean up Bokeh references\n",
              "    if (id != null && id in Bokeh.index) {\n",
              "      Bokeh.index[id].model.document.clear();\n",
              "      delete Bokeh.index[id];\n",
              "    }\n",
              "\n",
              "    if (server_id !== undefined) {\n",
              "      // Clean up Bokeh references\n",
              "      var cmd = \"from bokeh.io.state import curstate; print(curstate().uuid_to_server['\" + server_id + \"'].get_sessions()[0].document.roots[0]._id)\";\n",
              "      cell.notebook.kernel.execute(cmd, {\n",
              "        iopub: {\n",
              "          output: function(msg) {\n",
              "            var id = msg.content.text.trim();\n",
              "            if (id in Bokeh.index) {\n",
              "              Bokeh.index[id].model.document.clear();\n",
              "              delete Bokeh.index[id];\n",
              "            }\n",
              "          }\n",
              "        }\n",
              "      });\n",
              "      // Destroy server and session\n",
              "      var cmd = \"import bokeh.io.notebook as ion; ion.destroy_server('\" + server_id + \"')\";\n",
              "      cell.notebook.kernel.execute(cmd);\n",
              "    }\n",
              "  }\n",
              "\n",
              "  /**\n",
              "   * Handle when a new output is added\n",
              "   */\n",
              "  function handleAddOutput(event, handle) {\n",
              "    var output_area = handle.output_area;\n",
              "    var output = handle.output;\n",
              "\n",
              "    // limit handleAddOutput to display_data with EXEC_MIME_TYPE content only\n",
              "    if ((output.output_type != \"display_data\") || (!output.data.hasOwnProperty(EXEC_MIME_TYPE))) {\n",
              "      return\n",
              "    }\n",
              "\n",
              "    var toinsert = output_area.element.find(\".\" + CLASS_NAME.split(' ')[0]);\n",
              "\n",
              "    if (output.metadata[EXEC_MIME_TYPE][\"id\"] !== undefined) {\n",
              "      toinsert[toinsert.length - 1].firstChild.textContent = output.data[JS_MIME_TYPE];\n",
              "      // store reference to embed id on output_area\n",
              "      output_area._bokeh_element_id = output.metadata[EXEC_MIME_TYPE][\"id\"];\n",
              "    }\n",
              "    if (output.metadata[EXEC_MIME_TYPE][\"server_id\"] !== undefined) {\n",
              "      var bk_div = document.createElement(\"div\");\n",
              "      bk_div.innerHTML = output.data[HTML_MIME_TYPE];\n",
              "      var script_attrs = bk_div.children[0].attributes;\n",
              "      for (var i = 0; i < script_attrs.length; i++) {\n",
              "        toinsert[toinsert.length - 1].firstChild.setAttribute(script_attrs[i].name, script_attrs[i].value);\n",
              "      }\n",
              "      // store reference to server id on output_area\n",
              "      output_area._bokeh_server_id = output.metadata[EXEC_MIME_TYPE][\"server_id\"];\n",
              "    }\n",
              "  }\n",
              "\n",
              "  function register_renderer(events, OutputArea) {\n",
              "\n",
              "    function append_mime(data, metadata, element) {\n",
              "      // create a DOM node to render to\n",
              "      var toinsert = this.create_output_subarea(\n",
              "        metadata,\n",
              "        CLASS_NAME,\n",
              "        EXEC_MIME_TYPE\n",
              "      );\n",
              "      this.keyboard_manager.register_events(toinsert);\n",
              "      // Render to node\n",
              "      var props = {data: data, metadata: metadata[EXEC_MIME_TYPE]};\n",
              "      render(props, toinsert[toinsert.length - 1]);\n",
              "      element.append(toinsert);\n",
              "      return toinsert\n",
              "    }\n",
              "\n",
              "    /* Handle when an output is cleared or removed */\n",
              "    events.on('clear_output.CodeCell', handleClearOutput);\n",
              "    events.on('delete.Cell', handleClearOutput);\n",
              "\n",
              "    /* Handle when a new output is added */\n",
              "    events.on('output_added.OutputArea', handleAddOutput);\n",
              "\n",
              "    /**\n",
              "     * Register the mime type and append_mime function with output_area\n",
              "     */\n",
              "    OutputArea.prototype.register_mime_type(EXEC_MIME_TYPE, append_mime, {\n",
              "      /* Is output safe? */\n",
              "      safe: true,\n",
              "      /* Index of renderer in `output_area.display_order` */\n",
              "      index: 0\n",
              "    });\n",
              "  }\n",
              "\n",
              "  // register the mime type if in Jupyter Notebook environment and previously unregistered\n",
              "  if (root.Jupyter !== undefined) {\n",
              "    var events = require('base/js/events');\n",
              "    var OutputArea = require('notebook/js/outputarea').OutputArea;\n",
              "\n",
              "    if (OutputArea.prototype.mime_types().indexOf(EXEC_MIME_TYPE) == -1) {\n",
              "      register_renderer(events, OutputArea);\n",
              "    }\n",
              "  }\n",
              "\n",
              "  \n",
              "  if (typeof (root._bokeh_timeout) === \"undefined\" || force === true) {\n",
              "    root._bokeh_timeout = Date.now() + 5000;\n",
              "    root._bokeh_failed_load = false;\n",
              "  }\n",
              "\n",
              "  var NB_LOAD_WARNING = {'data': {'text/html':\n",
              "     \"<div style='background-color: #fdd'>\\n\"+\n",
              "     \"<p>\\n\"+\n",
              "     \"BokehJS does not appear to have successfully loaded. If loading BokehJS from CDN, this \\n\"+\n",
              "     \"may be due to a slow or bad network connection. Possible fixes:\\n\"+\n",
              "     \"</p>\\n\"+\n",
              "     \"<ul>\\n\"+\n",
              "     \"<li>re-rerun `output_notebook()` to attempt to load from CDN again, or</li>\\n\"+\n",
              "     \"<li>use INLINE resources instead, as so:</li>\\n\"+\n",
              "     \"</ul>\\n\"+\n",
              "     \"<code>\\n\"+\n",
              "     \"from bokeh.resources import INLINE\\n\"+\n",
              "     \"output_notebook(resources=INLINE)\\n\"+\n",
              "     \"</code>\\n\"+\n",
              "     \"</div>\"}};\n",
              "\n",
              "  function display_loaded() {\n",
              "    var el = document.getElementById(\"12884\");\n",
              "    if (el != null) {\n",
              "      el.textContent = \"BokehJS is loading...\";\n",
              "    }\n",
              "    if (root.Bokeh !== undefined) {\n",
              "      if (el != null) {\n",
              "        el.textContent = \"BokehJS \" + root.Bokeh.version + \" successfully loaded.\";\n",
              "      }\n",
              "    } else if (Date.now() < root._bokeh_timeout) {\n",
              "      setTimeout(display_loaded, 100)\n",
              "    }\n",
              "  }\n",
              "\n",
              "\n",
              "  function run_callbacks() {\n",
              "    try {\n",
              "      root._bokeh_onload_callbacks.forEach(function(callback) { callback() });\n",
              "    }\n",
              "    finally {\n",
              "      delete root._bokeh_onload_callbacks\n",
              "    }\n",
              "    console.info(\"Bokeh: all callbacks have finished\");\n",
              "  }\n",
              "\n",
              "  function load_libs(js_urls, callback) {\n",
              "    root._bokeh_onload_callbacks.push(callback);\n",
              "    if (root._bokeh_is_loading > 0) {\n",
              "      console.log(\"Bokeh: BokehJS is being loaded, scheduling callback at\", now());\n",
              "      return null;\n",
              "    }\n",
              "    if (js_urls == null || js_urls.length === 0) {\n",
              "      run_callbacks();\n",
              "      return null;\n",
              "    }\n",
              "    console.log(\"Bokeh: BokehJS not loaded, scheduling load and callback at\", now());\n",
              "    root._bokeh_is_loading = js_urls.length;\n",
              "    for (var i = 0; i < js_urls.length; i++) {\n",
              "      var url = js_urls[i];\n",
              "      var s = document.createElement('script');\n",
              "      s.src = url;\n",
              "      s.async = false;\n",
              "      s.onreadystatechange = s.onload = function() {\n",
              "        root._bokeh_is_loading--;\n",
              "        if (root._bokeh_is_loading === 0) {\n",
              "          console.log(\"Bokeh: all BokehJS libraries loaded\");\n",
              "          run_callbacks()\n",
              "        }\n",
              "      };\n",
              "      s.onerror = function() {\n",
              "        console.warn(\"failed to load library \" + url);\n",
              "      };\n",
              "      console.log(\"Bokeh: injecting script tag for BokehJS library: \", url);\n",
              "      document.getElementsByTagName(\"head\")[0].appendChild(s);\n",
              "    }\n",
              "  };var element = document.getElementById(\"12884\");\n",
              "  if (element == null) {\n",
              "    console.log(\"Bokeh: ERROR: autoload.js configured with elementid '12884' but no matching script tag was found. \")\n",
              "    return false;\n",
              "  }\n",
              "\n",
              "  var js_urls = [\"https://cdn.pydata.org/bokeh/release/bokeh-1.0.4.min.js\", \"https://cdn.pydata.org/bokeh/release/bokeh-widgets-1.0.4.min.js\", \"https://cdn.pydata.org/bokeh/release/bokeh-tables-1.0.4.min.js\", \"https://cdn.pydata.org/bokeh/release/bokeh-gl-1.0.4.min.js\"];\n",
              "\n",
              "  var inline_js = [\n",
              "    function(Bokeh) {\n",
              "      Bokeh.set_log_level(\"info\");\n",
              "    },\n",
              "    \n",
              "    function(Bokeh) {\n",
              "      \n",
              "    },\n",
              "    function(Bokeh) {\n",
              "      console.log(\"Bokeh: injecting CSS: https://cdn.pydata.org/bokeh/release/bokeh-1.0.4.min.css\");\n",
              "      Bokeh.embed.inject_css(\"https://cdn.pydata.org/bokeh/release/bokeh-1.0.4.min.css\");\n",
              "      console.log(\"Bokeh: injecting CSS: https://cdn.pydata.org/bokeh/release/bokeh-widgets-1.0.4.min.css\");\n",
              "      Bokeh.embed.inject_css(\"https://cdn.pydata.org/bokeh/release/bokeh-widgets-1.0.4.min.css\");\n",
              "      console.log(\"Bokeh: injecting CSS: https://cdn.pydata.org/bokeh/release/bokeh-tables-1.0.4.min.css\");\n",
              "      Bokeh.embed.inject_css(\"https://cdn.pydata.org/bokeh/release/bokeh-tables-1.0.4.min.css\");\n",
              "    }\n",
              "  ];\n",
              "\n",
              "  function run_inline_js() {\n",
              "    \n",
              "    if ((root.Bokeh !== undefined) || (force === true)) {\n",
              "      for (var i = 0; i < inline_js.length; i++) {\n",
              "        inline_js[i].call(root, root.Bokeh);\n",
              "      }if (force === true) {\n",
              "        display_loaded();\n",
              "      }} else if (Date.now() < root._bokeh_timeout) {\n",
              "      setTimeout(run_inline_js, 100);\n",
              "    } else if (!root._bokeh_failed_load) {\n",
              "      console.log(\"Bokeh: BokehJS failed to load within specified timeout.\");\n",
              "      root._bokeh_failed_load = true;\n",
              "    } else if (force !== true) {\n",
              "      var cell = $(document.getElementById(\"12884\")).parents('.cell').data().cell;\n",
              "      cell.output_area.append_execute_result(NB_LOAD_WARNING)\n",
              "    }\n",
              "\n",
              "  }\n",
              "\n",
              "  if (root._bokeh_is_loading === 0) {\n",
              "    console.log(\"Bokeh: BokehJS loaded, going straight to plotting\");\n",
              "    run_inline_js();\n",
              "  } else {\n",
              "    load_libs(js_urls, function() {\n",
              "      console.log(\"Bokeh: BokehJS plotting callback run at\", now());\n",
              "      run_inline_js();\n",
              "    });\n",
              "  }\n",
              "}(window));"
            ],
            "application/vnd.bokehjs_load.v0+json": "\n(function(root) {\n  function now() {\n    return new Date();\n  }\n\n  var force = true;\n\n  if (typeof (root._bokeh_onload_callbacks) === \"undefined\" || force === true) {\n    root._bokeh_onload_callbacks = [];\n    root._bokeh_is_loading = undefined;\n  }\n\n  \n\n  \n  if (typeof (root._bokeh_timeout) === \"undefined\" || force === true) {\n    root._bokeh_timeout = Date.now() + 5000;\n    root._bokeh_failed_load = false;\n  }\n\n  var NB_LOAD_WARNING = {'data': {'text/html':\n     \"<div style='background-color: #fdd'>\\n\"+\n     \"<p>\\n\"+\n     \"BokehJS does not appear to have successfully loaded. If loading BokehJS from CDN, this \\n\"+\n     \"may be due to a slow or bad network connection. Possible fixes:\\n\"+\n     \"</p>\\n\"+\n     \"<ul>\\n\"+\n     \"<li>re-rerun `output_notebook()` to attempt to load from CDN again, or</li>\\n\"+\n     \"<li>use INLINE resources instead, as so:</li>\\n\"+\n     \"</ul>\\n\"+\n     \"<code>\\n\"+\n     \"from bokeh.resources import INLINE\\n\"+\n     \"output_notebook(resources=INLINE)\\n\"+\n     \"</code>\\n\"+\n     \"</div>\"}};\n\n  function display_loaded() {\n    var el = document.getElementById(\"12884\");\n    if (el != null) {\n      el.textContent = \"BokehJS is loading...\";\n    }\n    if (root.Bokeh !== undefined) {\n      if (el != null) {\n        el.textContent = \"BokehJS \" + root.Bokeh.version + \" successfully loaded.\";\n      }\n    } else if (Date.now() < root._bokeh_timeout) {\n      setTimeout(display_loaded, 100)\n    }\n  }\n\n\n  function run_callbacks() {\n    try {\n      root._bokeh_onload_callbacks.forEach(function(callback) { callback() });\n    }\n    finally {\n      delete root._bokeh_onload_callbacks\n    }\n    console.info(\"Bokeh: all callbacks have finished\");\n  }\n\n  function load_libs(js_urls, callback) {\n    root._bokeh_onload_callbacks.push(callback);\n    if (root._bokeh_is_loading > 0) {\n      console.log(\"Bokeh: BokehJS is being loaded, scheduling callback at\", now());\n      return null;\n    }\n    if (js_urls == null || js_urls.length === 0) {\n      run_callbacks();\n      return null;\n    }\n    console.log(\"Bokeh: BokehJS not loaded, scheduling load and callback at\", now());\n    root._bokeh_is_loading = js_urls.length;\n    for (var i = 0; i < js_urls.length; i++) {\n      var url = js_urls[i];\n      var s = document.createElement('script');\n      s.src = url;\n      s.async = false;\n      s.onreadystatechange = s.onload = function() {\n        root._bokeh_is_loading--;\n        if (root._bokeh_is_loading === 0) {\n          console.log(\"Bokeh: all BokehJS libraries loaded\");\n          run_callbacks()\n        }\n      };\n      s.onerror = function() {\n        console.warn(\"failed to load library \" + url);\n      };\n      console.log(\"Bokeh: injecting script tag for BokehJS library: \", url);\n      document.getElementsByTagName(\"head\")[0].appendChild(s);\n    }\n  };var element = document.getElementById(\"12884\");\n  if (element == null) {\n    console.log(\"Bokeh: ERROR: autoload.js configured with elementid '12884' but no matching script tag was found. \")\n    return false;\n  }\n\n  var js_urls = [\"https://cdn.pydata.org/bokeh/release/bokeh-1.0.4.min.js\", \"https://cdn.pydata.org/bokeh/release/bokeh-widgets-1.0.4.min.js\", \"https://cdn.pydata.org/bokeh/release/bokeh-tables-1.0.4.min.js\", \"https://cdn.pydata.org/bokeh/release/bokeh-gl-1.0.4.min.js\"];\n\n  var inline_js = [\n    function(Bokeh) {\n      Bokeh.set_log_level(\"info\");\n    },\n    \n    function(Bokeh) {\n      \n    },\n    function(Bokeh) {\n      console.log(\"Bokeh: injecting CSS: https://cdn.pydata.org/bokeh/release/bokeh-1.0.4.min.css\");\n      Bokeh.embed.inject_css(\"https://cdn.pydata.org/bokeh/release/bokeh-1.0.4.min.css\");\n      console.log(\"Bokeh: injecting CSS: https://cdn.pydata.org/bokeh/release/bokeh-widgets-1.0.4.min.css\");\n      Bokeh.embed.inject_css(\"https://cdn.pydata.org/bokeh/release/bokeh-widgets-1.0.4.min.css\");\n      console.log(\"Bokeh: injecting CSS: https://cdn.pydata.org/bokeh/release/bokeh-tables-1.0.4.min.css\");\n      Bokeh.embed.inject_css(\"https://cdn.pydata.org/bokeh/release/bokeh-tables-1.0.4.min.css\");\n    }\n  ];\n\n  function run_inline_js() {\n    \n    if ((root.Bokeh !== undefined) || (force === true)) {\n      for (var i = 0; i < inline_js.length; i++) {\n        inline_js[i].call(root, root.Bokeh);\n      }if (force === true) {\n        display_loaded();\n      }} else if (Date.now() < root._bokeh_timeout) {\n      setTimeout(run_inline_js, 100);\n    } else if (!root._bokeh_failed_load) {\n      console.log(\"Bokeh: BokehJS failed to load within specified timeout.\");\n      root._bokeh_failed_load = true;\n    } else if (force !== true) {\n      var cell = $(document.getElementById(\"12884\")).parents('.cell').data().cell;\n      cell.output_area.append_execute_result(NB_LOAD_WARNING)\n    }\n\n  }\n\n  if (root._bokeh_is_loading === 0) {\n    console.log(\"Bokeh: BokehJS loaded, going straight to plotting\");\n    run_inline_js();\n  } else {\n    load_libs(js_urls, function() {\n      console.log(\"Bokeh: BokehJS plotting callback run at\", now());\n      run_inline_js();\n    });\n  }\n}(window));"
          },
          "metadata": {
            "tags": []
          }
        },
        {
          "output_type": "stream",
          "text": [
            "TCS\n"
          ],
          "name": "stdout"
        },
        {
          "output_type": "display_data",
          "data": {
            "text/html": [
              "\n",
              "\n",
              "\n",
              "\n",
              "\n",
              "\n",
              "  <div class=\"bk-root\" id=\"f70fbdf8-45b9-4d9a-959b-3848b73d30dd\" data-root-id=\"12886\"></div>\n"
            ]
          },
          "metadata": {
            "tags": []
          }
        },
        {
          "output_type": "display_data",
          "data": {
            "application/javascript": [
              "(function(root) {\n",
              "  function embed_document(root) {\n",
              "    \n",
              "  var docs_json = {\"410349e9-7255-4957-9d15-b390c6e37530\":{\"roots\":{\"references\":[{\"attributes\":{\"below\":[{\"id\":\"12896\",\"type\":\"LinearAxis\"}],\"left\":[{\"id\":\"12901\",\"type\":\"LinearAxis\"}],\"plot_height\":500,\"renderers\":[{\"id\":\"12896\",\"type\":\"LinearAxis\"},{\"id\":\"12900\",\"type\":\"Grid\"},{\"id\":\"12901\",\"type\":\"LinearAxis\"},{\"id\":\"12905\",\"type\":\"Grid\"},{\"id\":\"12914\",\"type\":\"BoxAnnotation\"},{\"id\":\"12924\",\"type\":\"GlyphRenderer\"}],\"title\":{\"id\":\"12885\",\"type\":\"Title\"},\"toolbar\":{\"id\":\"12912\",\"type\":\"Toolbar\"},\"x_range\":{\"id\":\"12888\",\"type\":\"DataRange1d\"},\"x_scale\":{\"id\":\"12892\",\"type\":\"LinearScale\"},\"y_range\":{\"id\":\"12890\",\"type\":\"DataRange1d\"},\"y_scale\":{\"id\":\"12894\",\"type\":\"LinearScale\"}},\"id\":\"12886\",\"subtype\":\"Figure\",\"type\":\"Plot\"},{\"attributes\":{},\"id\":\"12906\",\"type\":\"PanTool\"},{\"attributes\":{},\"id\":\"12907\",\"type\":\"WheelZoomTool\"},{\"attributes\":{\"overlay\":{\"id\":\"12914\",\"type\":\"BoxAnnotation\"}},\"id\":\"12908\",\"type\":\"BoxZoomTool\"},{\"attributes\":{},\"id\":\"12909\",\"type\":\"SaveTool\"},{\"attributes\":{},\"id\":\"12910\",\"type\":\"ResetTool\"},{\"attributes\":{},\"id\":\"12911\",\"type\":\"HelpTool\"},{\"attributes\":{\"callback\":null},\"id\":\"12888\",\"type\":\"DataRange1d\"},{\"attributes\":{\"active_drag\":\"auto\",\"active_inspect\":\"auto\",\"active_multi\":null,\"active_scroll\":\"auto\",\"active_tap\":\"auto\",\"tools\":[{\"id\":\"12906\",\"type\":\"PanTool\"},{\"id\":\"12907\",\"type\":\"WheelZoomTool\"},{\"id\":\"12908\",\"type\":\"BoxZoomTool\"},{\"id\":\"12909\",\"type\":\"SaveTool\"},{\"id\":\"12910\",\"type\":\"ResetTool\"},{\"id\":\"12911\",\"type\":\"HelpTool\"}]},\"id\":\"12912\",\"type\":\"Toolbar\"},{\"attributes\":{},\"id\":\"12892\",\"type\":\"LinearScale\"},{\"attributes\":{\"bottom_units\":\"screen\",\"fill_alpha\":{\"value\":0.5},\"fill_color\":{\"value\":\"lightgrey\"},\"left_units\":\"screen\",\"level\":\"overlay\",\"line_alpha\":{\"value\":1.0},\"line_color\":{\"value\":\"black\"},\"line_dash\":[4,4],\"line_width\":{\"value\":2},\"plot\":null,\"render_mode\":\"css\",\"right_units\":\"screen\",\"top_units\":\"screen\"},\"id\":\"12914\",\"type\":\"BoxAnnotation\"},{\"attributes\":{\"plot\":null,\"text\":\"Partial Autocorrelation Plot TCS\"},\"id\":\"12885\",\"type\":\"Title\"},{\"attributes\":{},\"id\":\"13849\",\"type\":\"Selection\"},{\"attributes\":{},\"id\":\"13848\",\"type\":\"UnionRenderers\"},{\"attributes\":{\"data_source\":{\"id\":\"12921\",\"type\":\"ColumnDataSource\"},\"glyph\":{\"id\":\"12922\",\"type\":\"VBar\"},\"hover_glyph\":null,\"muted_glyph\":null,\"nonselection_glyph\":{\"id\":\"12923\",\"type\":\"VBar\"},\"selection_glyph\":null,\"view\":{\"id\":\"12925\",\"type\":\"CDSView\"}},\"id\":\"12924\",\"type\":\"GlyphRenderer\"},{\"attributes\":{},\"id\":\"12894\",\"type\":\"LinearScale\"},{\"attributes\":{},\"id\":\"13846\",\"type\":\"BasicTickFormatter\"},{\"attributes\":{\"source\":{\"id\":\"12921\",\"type\":\"ColumnDataSource\"}},\"id\":\"12925\",\"type\":\"CDSView\"},{\"attributes\":{\"formatter\":{\"id\":\"13846\",\"type\":\"BasicTickFormatter\"},\"plot\":{\"id\":\"12886\",\"subtype\":\"Figure\",\"type\":\"Plot\"},\"ticker\":{\"id\":\"12897\",\"type\":\"BasicTicker\"}},\"id\":\"12896\",\"type\":\"LinearAxis\"},{\"attributes\":{},\"id\":\"12897\",\"type\":\"BasicTicker\"},{\"attributes\":{\"plot\":{\"id\":\"12886\",\"subtype\":\"Figure\",\"type\":\"Plot\"},\"ticker\":{\"id\":\"12897\",\"type\":\"BasicTicker\"}},\"id\":\"12900\",\"type\":\"Grid\"},{\"attributes\":{\"formatter\":{\"id\":\"13844\",\"type\":\"BasicTickFormatter\"},\"plot\":{\"id\":\"12886\",\"subtype\":\"Figure\",\"type\":\"Plot\"},\"ticker\":{\"id\":\"12902\",\"type\":\"BasicTicker\"}},\"id\":\"12901\",\"type\":\"LinearAxis\"},{\"attributes\":{},\"id\":\"13844\",\"type\":\"BasicTickFormatter\"},{\"attributes\":{},\"id\":\"12902\",\"type\":\"BasicTicker\"},{\"attributes\":{\"dimension\":1,\"plot\":{\"id\":\"12886\",\"subtype\":\"Figure\",\"type\":\"Plot\"},\"ticker\":{\"id\":\"12902\",\"type\":\"BasicTicker\"}},\"id\":\"12905\",\"type\":\"Grid\"},{\"attributes\":{\"fill_alpha\":{\"value\":0.1},\"fill_color\":{\"value\":\"#1f77b4\"},\"line_alpha\":{\"value\":0.1},\"line_color\":{\"value\":\"#1f77b4\"},\"top\":{\"field\":\"top\"},\"width\":{\"value\":0.9},\"x\":{\"field\":\"x\"}},\"id\":\"12923\",\"type\":\"VBar\"},{\"attributes\":{\"callback\":null,\"data\":{\"top\":{\"__ndarray__\":\"AAAAAAAA8D90zcFrJsLtP5k4W5ZVsru/mHSgMy6krL+Xbp+ZWzmiP6ycyA78/a0/x9Qy7Z+8pb910kKEGH2zP79DrWW2HLA/rdpPva6Spz+TNWOTs2m1v+3k//xBoJg/c7KeO5wyt78R7qabVrmwv1KCqNpX5Z8/LCZBFs5nsj8SUg4LeE9tv3SgkgiYlrk/wWg3R9kZsb97Azs0KHeFv3u9DmCfp6A/Iby+6c75wL8LjmcIh6+rPwu81Ja+2bA/cHHOsFsAsr+ljC1Tize/vzBeWSFh2ai/HrAx9J2SsT/qFluy+sKtP5FCW5BbMrY/8Cjd1yDGsT8wXc1Taq2xvzMQUrbUibS/9RVRx5iZwL/cwhk+n4y3v/LsS6JDnLK/jeawuVyopr+S9Xcr18O4v0zOCoPa/LI/89D/tPYOoT9ESyif/RydvxvHipe1EKA/Ay1VD7Cjpz/HvM+4GjKyv+8L9c6lXbw/2HWaXtVgqT8Ayx5LRlStP7/DVO9pdF2/MwHxZ73Zvj8aqnOt3VKTPw==\",\"dtype\":\"float64\",\"shape\":[50]},\"x\":[0,1,2,3,4,5,6,7,8,9,10,11,12,13,14,15,16,17,18,19,20,21,22,23,24,25,26,27,28,29,30,31,32,33,34,35,36,37,38,39,40,41,42,43,44,45,46,47,48,49]},\"selected\":{\"id\":\"13849\",\"type\":\"Selection\"},\"selection_policy\":{\"id\":\"13848\",\"type\":\"UnionRenderers\"}},\"id\":\"12921\",\"type\":\"ColumnDataSource\"},{\"attributes\":{\"callback\":null},\"id\":\"12890\",\"type\":\"DataRange1d\"},{\"attributes\":{\"fill_color\":{\"value\":\"#1f77b4\"},\"line_color\":{\"value\":\"#1f77b4\"},\"top\":{\"field\":\"top\"},\"width\":{\"value\":0.9},\"x\":{\"field\":\"x\"}},\"id\":\"12922\",\"type\":\"VBar\"}],\"root_ids\":[\"12886\"]},\"title\":\"Bokeh Application\",\"version\":\"1.0.4\"}};\n",
              "  var render_items = [{\"docid\":\"410349e9-7255-4957-9d15-b390c6e37530\",\"roots\":{\"12886\":\"f70fbdf8-45b9-4d9a-959b-3848b73d30dd\"}}];\n",
              "  root.Bokeh.embed.embed_items_notebook(docs_json, render_items);\n",
              "\n",
              "  }\n",
              "  if (root.Bokeh !== undefined) {\n",
              "    embed_document(root);\n",
              "  } else {\n",
              "    var attempts = 0;\n",
              "    var timer = setInterval(function(root) {\n",
              "      if (root.Bokeh !== undefined) {\n",
              "        embed_document(root);\n",
              "        clearInterval(timer);\n",
              "      }\n",
              "      attempts++;\n",
              "      if (attempts > 100) {\n",
              "        console.log(\"Bokeh: ERROR: Unable to run BokehJS code because BokehJS library is missing\");\n",
              "        clearInterval(timer);\n",
              "      }\n",
              "    }, 10, root)\n",
              "  }\n",
              "})(window);"
            ],
            "application/vnd.bokehjs_exec.v0+json": ""
          },
          "metadata": {
            "tags": [],
            "application/vnd.bokehjs_exec.v0+json": {
              "id": "12886"
            }
          }
        },
        {
          "output_type": "display_data",
          "data": {
            "text/html": [
              "\n",
              "    <div class=\"bk-root\">\n",
              "        <a href=\"https://bokeh.pydata.org\" target=\"_blank\" class=\"bk-logo bk-logo-small bk-logo-notebook\"></a>\n",
              "        <span id=\"13898\">Loading BokehJS ...</span>\n",
              "    </div>"
            ]
          },
          "metadata": {
            "tags": []
          }
        },
        {
          "output_type": "display_data",
          "data": {
            "application/javascript": [
              "\n",
              "(function(root) {\n",
              "  function now() {\n",
              "    return new Date();\n",
              "  }\n",
              "\n",
              "  var force = true;\n",
              "\n",
              "  if (typeof (root._bokeh_onload_callbacks) === \"undefined\" || force === true) {\n",
              "    root._bokeh_onload_callbacks = [];\n",
              "    root._bokeh_is_loading = undefined;\n",
              "  }\n",
              "\n",
              "  var JS_MIME_TYPE = 'application/javascript';\n",
              "  var HTML_MIME_TYPE = 'text/html';\n",
              "  var EXEC_MIME_TYPE = 'application/vnd.bokehjs_exec.v0+json';\n",
              "  var CLASS_NAME = 'output_bokeh rendered_html';\n",
              "\n",
              "  /**\n",
              "   * Render data to the DOM node\n",
              "   */\n",
              "  function render(props, node) {\n",
              "    var script = document.createElement(\"script\");\n",
              "    node.appendChild(script);\n",
              "  }\n",
              "\n",
              "  /**\n",
              "   * Handle when an output is cleared or removed\n",
              "   */\n",
              "  function handleClearOutput(event, handle) {\n",
              "    var cell = handle.cell;\n",
              "\n",
              "    var id = cell.output_area._bokeh_element_id;\n",
              "    var server_id = cell.output_area._bokeh_server_id;\n",
              "    // Clean up Bokeh references\n",
              "    if (id != null && id in Bokeh.index) {\n",
              "      Bokeh.index[id].model.document.clear();\n",
              "      delete Bokeh.index[id];\n",
              "    }\n",
              "\n",
              "    if (server_id !== undefined) {\n",
              "      // Clean up Bokeh references\n",
              "      var cmd = \"from bokeh.io.state import curstate; print(curstate().uuid_to_server['\" + server_id + \"'].get_sessions()[0].document.roots[0]._id)\";\n",
              "      cell.notebook.kernel.execute(cmd, {\n",
              "        iopub: {\n",
              "          output: function(msg) {\n",
              "            var id = msg.content.text.trim();\n",
              "            if (id in Bokeh.index) {\n",
              "              Bokeh.index[id].model.document.clear();\n",
              "              delete Bokeh.index[id];\n",
              "            }\n",
              "          }\n",
              "        }\n",
              "      });\n",
              "      // Destroy server and session\n",
              "      var cmd = \"import bokeh.io.notebook as ion; ion.destroy_server('\" + server_id + \"')\";\n",
              "      cell.notebook.kernel.execute(cmd);\n",
              "    }\n",
              "  }\n",
              "\n",
              "  /**\n",
              "   * Handle when a new output is added\n",
              "   */\n",
              "  function handleAddOutput(event, handle) {\n",
              "    var output_area = handle.output_area;\n",
              "    var output = handle.output;\n",
              "\n",
              "    // limit handleAddOutput to display_data with EXEC_MIME_TYPE content only\n",
              "    if ((output.output_type != \"display_data\") || (!output.data.hasOwnProperty(EXEC_MIME_TYPE))) {\n",
              "      return\n",
              "    }\n",
              "\n",
              "    var toinsert = output_area.element.find(\".\" + CLASS_NAME.split(' ')[0]);\n",
              "\n",
              "    if (output.metadata[EXEC_MIME_TYPE][\"id\"] !== undefined) {\n",
              "      toinsert[toinsert.length - 1].firstChild.textContent = output.data[JS_MIME_TYPE];\n",
              "      // store reference to embed id on output_area\n",
              "      output_area._bokeh_element_id = output.metadata[EXEC_MIME_TYPE][\"id\"];\n",
              "    }\n",
              "    if (output.metadata[EXEC_MIME_TYPE][\"server_id\"] !== undefined) {\n",
              "      var bk_div = document.createElement(\"div\");\n",
              "      bk_div.innerHTML = output.data[HTML_MIME_TYPE];\n",
              "      var script_attrs = bk_div.children[0].attributes;\n",
              "      for (var i = 0; i < script_attrs.length; i++) {\n",
              "        toinsert[toinsert.length - 1].firstChild.setAttribute(script_attrs[i].name, script_attrs[i].value);\n",
              "      }\n",
              "      // store reference to server id on output_area\n",
              "      output_area._bokeh_server_id = output.metadata[EXEC_MIME_TYPE][\"server_id\"];\n",
              "    }\n",
              "  }\n",
              "\n",
              "  function register_renderer(events, OutputArea) {\n",
              "\n",
              "    function append_mime(data, metadata, element) {\n",
              "      // create a DOM node to render to\n",
              "      var toinsert = this.create_output_subarea(\n",
              "        metadata,\n",
              "        CLASS_NAME,\n",
              "        EXEC_MIME_TYPE\n",
              "      );\n",
              "      this.keyboard_manager.register_events(toinsert);\n",
              "      // Render to node\n",
              "      var props = {data: data, metadata: metadata[EXEC_MIME_TYPE]};\n",
              "      render(props, toinsert[toinsert.length - 1]);\n",
              "      element.append(toinsert);\n",
              "      return toinsert\n",
              "    }\n",
              "\n",
              "    /* Handle when an output is cleared or removed */\n",
              "    events.on('clear_output.CodeCell', handleClearOutput);\n",
              "    events.on('delete.Cell', handleClearOutput);\n",
              "\n",
              "    /* Handle when a new output is added */\n",
              "    events.on('output_added.OutputArea', handleAddOutput);\n",
              "\n",
              "    /**\n",
              "     * Register the mime type and append_mime function with output_area\n",
              "     */\n",
              "    OutputArea.prototype.register_mime_type(EXEC_MIME_TYPE, append_mime, {\n",
              "      /* Is output safe? */\n",
              "      safe: true,\n",
              "      /* Index of renderer in `output_area.display_order` */\n",
              "      index: 0\n",
              "    });\n",
              "  }\n",
              "\n",
              "  // register the mime type if in Jupyter Notebook environment and previously unregistered\n",
              "  if (root.Jupyter !== undefined) {\n",
              "    var events = require('base/js/events');\n",
              "    var OutputArea = require('notebook/js/outputarea').OutputArea;\n",
              "\n",
              "    if (OutputArea.prototype.mime_types().indexOf(EXEC_MIME_TYPE) == -1) {\n",
              "      register_renderer(events, OutputArea);\n",
              "    }\n",
              "  }\n",
              "\n",
              "  \n",
              "  if (typeof (root._bokeh_timeout) === \"undefined\" || force === true) {\n",
              "    root._bokeh_timeout = Date.now() + 5000;\n",
              "    root._bokeh_failed_load = false;\n",
              "  }\n",
              "\n",
              "  var NB_LOAD_WARNING = {'data': {'text/html':\n",
              "     \"<div style='background-color: #fdd'>\\n\"+\n",
              "     \"<p>\\n\"+\n",
              "     \"BokehJS does not appear to have successfully loaded. If loading BokehJS from CDN, this \\n\"+\n",
              "     \"may be due to a slow or bad network connection. Possible fixes:\\n\"+\n",
              "     \"</p>\\n\"+\n",
              "     \"<ul>\\n\"+\n",
              "     \"<li>re-rerun `output_notebook()` to attempt to load from CDN again, or</li>\\n\"+\n",
              "     \"<li>use INLINE resources instead, as so:</li>\\n\"+\n",
              "     \"</ul>\\n\"+\n",
              "     \"<code>\\n\"+\n",
              "     \"from bokeh.resources import INLINE\\n\"+\n",
              "     \"output_notebook(resources=INLINE)\\n\"+\n",
              "     \"</code>\\n\"+\n",
              "     \"</div>\"}};\n",
              "\n",
              "  function display_loaded() {\n",
              "    var el = document.getElementById(\"13898\");\n",
              "    if (el != null) {\n",
              "      el.textContent = \"BokehJS is loading...\";\n",
              "    }\n",
              "    if (root.Bokeh !== undefined) {\n",
              "      if (el != null) {\n",
              "        el.textContent = \"BokehJS \" + root.Bokeh.version + \" successfully loaded.\";\n",
              "      }\n",
              "    } else if (Date.now() < root._bokeh_timeout) {\n",
              "      setTimeout(display_loaded, 100)\n",
              "    }\n",
              "  }\n",
              "\n",
              "\n",
              "  function run_callbacks() {\n",
              "    try {\n",
              "      root._bokeh_onload_callbacks.forEach(function(callback) { callback() });\n",
              "    }\n",
              "    finally {\n",
              "      delete root._bokeh_onload_callbacks\n",
              "    }\n",
              "    console.info(\"Bokeh: all callbacks have finished\");\n",
              "  }\n",
              "\n",
              "  function load_libs(js_urls, callback) {\n",
              "    root._bokeh_onload_callbacks.push(callback);\n",
              "    if (root._bokeh_is_loading > 0) {\n",
              "      console.log(\"Bokeh: BokehJS is being loaded, scheduling callback at\", now());\n",
              "      return null;\n",
              "    }\n",
              "    if (js_urls == null || js_urls.length === 0) {\n",
              "      run_callbacks();\n",
              "      return null;\n",
              "    }\n",
              "    console.log(\"Bokeh: BokehJS not loaded, scheduling load and callback at\", now());\n",
              "    root._bokeh_is_loading = js_urls.length;\n",
              "    for (var i = 0; i < js_urls.length; i++) {\n",
              "      var url = js_urls[i];\n",
              "      var s = document.createElement('script');\n",
              "      s.src = url;\n",
              "      s.async = false;\n",
              "      s.onreadystatechange = s.onload = function() {\n",
              "        root._bokeh_is_loading--;\n",
              "        if (root._bokeh_is_loading === 0) {\n",
              "          console.log(\"Bokeh: all BokehJS libraries loaded\");\n",
              "          run_callbacks()\n",
              "        }\n",
              "      };\n",
              "      s.onerror = function() {\n",
              "        console.warn(\"failed to load library \" + url);\n",
              "      };\n",
              "      console.log(\"Bokeh: injecting script tag for BokehJS library: \", url);\n",
              "      document.getElementsByTagName(\"head\")[0].appendChild(s);\n",
              "    }\n",
              "  };var element = document.getElementById(\"13898\");\n",
              "  if (element == null) {\n",
              "    console.log(\"Bokeh: ERROR: autoload.js configured with elementid '13898' but no matching script tag was found. \")\n",
              "    return false;\n",
              "  }\n",
              "\n",
              "  var js_urls = [\"https://cdn.pydata.org/bokeh/release/bokeh-1.0.4.min.js\", \"https://cdn.pydata.org/bokeh/release/bokeh-widgets-1.0.4.min.js\", \"https://cdn.pydata.org/bokeh/release/bokeh-tables-1.0.4.min.js\", \"https://cdn.pydata.org/bokeh/release/bokeh-gl-1.0.4.min.js\"];\n",
              "\n",
              "  var inline_js = [\n",
              "    function(Bokeh) {\n",
              "      Bokeh.set_log_level(\"info\");\n",
              "    },\n",
              "    \n",
              "    function(Bokeh) {\n",
              "      \n",
              "    },\n",
              "    function(Bokeh) {\n",
              "      console.log(\"Bokeh: injecting CSS: https://cdn.pydata.org/bokeh/release/bokeh-1.0.4.min.css\");\n",
              "      Bokeh.embed.inject_css(\"https://cdn.pydata.org/bokeh/release/bokeh-1.0.4.min.css\");\n",
              "      console.log(\"Bokeh: injecting CSS: https://cdn.pydata.org/bokeh/release/bokeh-widgets-1.0.4.min.css\");\n",
              "      Bokeh.embed.inject_css(\"https://cdn.pydata.org/bokeh/release/bokeh-widgets-1.0.4.min.css\");\n",
              "      console.log(\"Bokeh: injecting CSS: https://cdn.pydata.org/bokeh/release/bokeh-tables-1.0.4.min.css\");\n",
              "      Bokeh.embed.inject_css(\"https://cdn.pydata.org/bokeh/release/bokeh-tables-1.0.4.min.css\");\n",
              "    }\n",
              "  ];\n",
              "\n",
              "  function run_inline_js() {\n",
              "    \n",
              "    if ((root.Bokeh !== undefined) || (force === true)) {\n",
              "      for (var i = 0; i < inline_js.length; i++) {\n",
              "        inline_js[i].call(root, root.Bokeh);\n",
              "      }if (force === true) {\n",
              "        display_loaded();\n",
              "      }} else if (Date.now() < root._bokeh_timeout) {\n",
              "      setTimeout(run_inline_js, 100);\n",
              "    } else if (!root._bokeh_failed_load) {\n",
              "      console.log(\"Bokeh: BokehJS failed to load within specified timeout.\");\n",
              "      root._bokeh_failed_load = true;\n",
              "    } else if (force !== true) {\n",
              "      var cell = $(document.getElementById(\"13898\")).parents('.cell').data().cell;\n",
              "      cell.output_area.append_execute_result(NB_LOAD_WARNING)\n",
              "    }\n",
              "\n",
              "  }\n",
              "\n",
              "  if (root._bokeh_is_loading === 0) {\n",
              "    console.log(\"Bokeh: BokehJS loaded, going straight to plotting\");\n",
              "    run_inline_js();\n",
              "  } else {\n",
              "    load_libs(js_urls, function() {\n",
              "      console.log(\"Bokeh: BokehJS plotting callback run at\", now());\n",
              "      run_inline_js();\n",
              "    });\n",
              "  }\n",
              "}(window));"
            ],
            "application/vnd.bokehjs_load.v0+json": "\n(function(root) {\n  function now() {\n    return new Date();\n  }\n\n  var force = true;\n\n  if (typeof (root._bokeh_onload_callbacks) === \"undefined\" || force === true) {\n    root._bokeh_onload_callbacks = [];\n    root._bokeh_is_loading = undefined;\n  }\n\n  \n\n  \n  if (typeof (root._bokeh_timeout) === \"undefined\" || force === true) {\n    root._bokeh_timeout = Date.now() + 5000;\n    root._bokeh_failed_load = false;\n  }\n\n  var NB_LOAD_WARNING = {'data': {'text/html':\n     \"<div style='background-color: #fdd'>\\n\"+\n     \"<p>\\n\"+\n     \"BokehJS does not appear to have successfully loaded. If loading BokehJS from CDN, this \\n\"+\n     \"may be due to a slow or bad network connection. Possible fixes:\\n\"+\n     \"</p>\\n\"+\n     \"<ul>\\n\"+\n     \"<li>re-rerun `output_notebook()` to attempt to load from CDN again, or</li>\\n\"+\n     \"<li>use INLINE resources instead, as so:</li>\\n\"+\n     \"</ul>\\n\"+\n     \"<code>\\n\"+\n     \"from bokeh.resources import INLINE\\n\"+\n     \"output_notebook(resources=INLINE)\\n\"+\n     \"</code>\\n\"+\n     \"</div>\"}};\n\n  function display_loaded() {\n    var el = document.getElementById(\"13898\");\n    if (el != null) {\n      el.textContent = \"BokehJS is loading...\";\n    }\n    if (root.Bokeh !== undefined) {\n      if (el != null) {\n        el.textContent = \"BokehJS \" + root.Bokeh.version + \" successfully loaded.\";\n      }\n    } else if (Date.now() < root._bokeh_timeout) {\n      setTimeout(display_loaded, 100)\n    }\n  }\n\n\n  function run_callbacks() {\n    try {\n      root._bokeh_onload_callbacks.forEach(function(callback) { callback() });\n    }\n    finally {\n      delete root._bokeh_onload_callbacks\n    }\n    console.info(\"Bokeh: all callbacks have finished\");\n  }\n\n  function load_libs(js_urls, callback) {\n    root._bokeh_onload_callbacks.push(callback);\n    if (root._bokeh_is_loading > 0) {\n      console.log(\"Bokeh: BokehJS is being loaded, scheduling callback at\", now());\n      return null;\n    }\n    if (js_urls == null || js_urls.length === 0) {\n      run_callbacks();\n      return null;\n    }\n    console.log(\"Bokeh: BokehJS not loaded, scheduling load and callback at\", now());\n    root._bokeh_is_loading = js_urls.length;\n    for (var i = 0; i < js_urls.length; i++) {\n      var url = js_urls[i];\n      var s = document.createElement('script');\n      s.src = url;\n      s.async = false;\n      s.onreadystatechange = s.onload = function() {\n        root._bokeh_is_loading--;\n        if (root._bokeh_is_loading === 0) {\n          console.log(\"Bokeh: all BokehJS libraries loaded\");\n          run_callbacks()\n        }\n      };\n      s.onerror = function() {\n        console.warn(\"failed to load library \" + url);\n      };\n      console.log(\"Bokeh: injecting script tag for BokehJS library: \", url);\n      document.getElementsByTagName(\"head\")[0].appendChild(s);\n    }\n  };var element = document.getElementById(\"13898\");\n  if (element == null) {\n    console.log(\"Bokeh: ERROR: autoload.js configured with elementid '13898' but no matching script tag was found. \")\n    return false;\n  }\n\n  var js_urls = [\"https://cdn.pydata.org/bokeh/release/bokeh-1.0.4.min.js\", \"https://cdn.pydata.org/bokeh/release/bokeh-widgets-1.0.4.min.js\", \"https://cdn.pydata.org/bokeh/release/bokeh-tables-1.0.4.min.js\", \"https://cdn.pydata.org/bokeh/release/bokeh-gl-1.0.4.min.js\"];\n\n  var inline_js = [\n    function(Bokeh) {\n      Bokeh.set_log_level(\"info\");\n    },\n    \n    function(Bokeh) {\n      \n    },\n    function(Bokeh) {\n      console.log(\"Bokeh: injecting CSS: https://cdn.pydata.org/bokeh/release/bokeh-1.0.4.min.css\");\n      Bokeh.embed.inject_css(\"https://cdn.pydata.org/bokeh/release/bokeh-1.0.4.min.css\");\n      console.log(\"Bokeh: injecting CSS: https://cdn.pydata.org/bokeh/release/bokeh-widgets-1.0.4.min.css\");\n      Bokeh.embed.inject_css(\"https://cdn.pydata.org/bokeh/release/bokeh-widgets-1.0.4.min.css\");\n      console.log(\"Bokeh: injecting CSS: https://cdn.pydata.org/bokeh/release/bokeh-tables-1.0.4.min.css\");\n      Bokeh.embed.inject_css(\"https://cdn.pydata.org/bokeh/release/bokeh-tables-1.0.4.min.css\");\n    }\n  ];\n\n  function run_inline_js() {\n    \n    if ((root.Bokeh !== undefined) || (force === true)) {\n      for (var i = 0; i < inline_js.length; i++) {\n        inline_js[i].call(root, root.Bokeh);\n      }if (force === true) {\n        display_loaded();\n      }} else if (Date.now() < root._bokeh_timeout) {\n      setTimeout(run_inline_js, 100);\n    } else if (!root._bokeh_failed_load) {\n      console.log(\"Bokeh: BokehJS failed to load within specified timeout.\");\n      root._bokeh_failed_load = true;\n    } else if (force !== true) {\n      var cell = $(document.getElementById(\"13898\")).parents('.cell').data().cell;\n      cell.output_area.append_execute_result(NB_LOAD_WARNING)\n    }\n\n  }\n\n  if (root._bokeh_is_loading === 0) {\n    console.log(\"Bokeh: BokehJS loaded, going straight to plotting\");\n    run_inline_js();\n  } else {\n    load_libs(js_urls, function() {\n      console.log(\"Bokeh: BokehJS plotting callback run at\", now());\n      run_inline_js();\n    });\n  }\n}(window));"
          },
          "metadata": {
            "tags": []
          }
        },
        {
          "output_type": "stream",
          "text": [
            "INFY\n"
          ],
          "name": "stdout"
        },
        {
          "output_type": "display_data",
          "data": {
            "text/html": [
              "\n",
              "\n",
              "\n",
              "\n",
              "\n",
              "\n",
              "  <div class=\"bk-root\" id=\"d1c85c4e-0abf-442a-ba07-bd61f6802e59\" data-root-id=\"13900\"></div>\n"
            ]
          },
          "metadata": {
            "tags": []
          }
        },
        {
          "output_type": "display_data",
          "data": {
            "application/javascript": [
              "(function(root) {\n",
              "  function embed_document(root) {\n",
              "    \n",
              "  var docs_json = {\"edac0640-cf80-40fd-9aae-0147fed53aea\":{\"roots\":{\"references\":[{\"attributes\":{\"below\":[{\"id\":\"13910\",\"type\":\"LinearAxis\"}],\"left\":[{\"id\":\"13915\",\"type\":\"LinearAxis\"}],\"plot_height\":500,\"renderers\":[{\"id\":\"13910\",\"type\":\"LinearAxis\"},{\"id\":\"13914\",\"type\":\"Grid\"},{\"id\":\"13915\",\"type\":\"LinearAxis\"},{\"id\":\"13919\",\"type\":\"Grid\"},{\"id\":\"13928\",\"type\":\"BoxAnnotation\"},{\"id\":\"13938\",\"type\":\"GlyphRenderer\"}],\"title\":{\"id\":\"13899\",\"type\":\"Title\"},\"toolbar\":{\"id\":\"13926\",\"type\":\"Toolbar\"},\"x_range\":{\"id\":\"13902\",\"type\":\"DataRange1d\"},\"x_scale\":{\"id\":\"13906\",\"type\":\"LinearScale\"},\"y_range\":{\"id\":\"13904\",\"type\":\"DataRange1d\"},\"y_scale\":{\"id\":\"13908\",\"type\":\"LinearScale\"}},\"id\":\"13900\",\"subtype\":\"Figure\",\"type\":\"Plot\"},{\"attributes\":{\"overlay\":{\"id\":\"13928\",\"type\":\"BoxAnnotation\"}},\"id\":\"13922\",\"type\":\"BoxZoomTool\"},{\"attributes\":{\"plot\":{\"id\":\"13900\",\"subtype\":\"Figure\",\"type\":\"Plot\"},\"ticker\":{\"id\":\"13911\",\"type\":\"BasicTicker\"}},\"id\":\"13914\",\"type\":\"Grid\"},{\"attributes\":{},\"id\":\"14868\",\"type\":\"BasicTickFormatter\"},{\"attributes\":{\"formatter\":{\"id\":\"14866\",\"type\":\"BasicTickFormatter\"},\"plot\":{\"id\":\"13900\",\"subtype\":\"Figure\",\"type\":\"Plot\"},\"ticker\":{\"id\":\"13916\",\"type\":\"BasicTicker\"}},\"id\":\"13915\",\"type\":\"LinearAxis\"},{\"attributes\":{\"dimension\":1,\"plot\":{\"id\":\"13900\",\"subtype\":\"Figure\",\"type\":\"Plot\"},\"ticker\":{\"id\":\"13916\",\"type\":\"BasicTicker\"}},\"id\":\"13919\",\"type\":\"Grid\"},{\"attributes\":{\"callback\":null},\"id\":\"13902\",\"type\":\"DataRange1d\"},{\"attributes\":{},\"id\":\"13916\",\"type\":\"BasicTicker\"},{\"attributes\":{},\"id\":\"13906\",\"type\":\"LinearScale\"},{\"attributes\":{},\"id\":\"13911\",\"type\":\"BasicTicker\"},{\"attributes\":{},\"id\":\"14871\",\"type\":\"Selection\"},{\"attributes\":{\"callback\":null,\"data\":{\"top\":{\"__ndarray__\":\"AAAAAAAA8D8gcLZOZMfvPz0NX8hxFaO/4V73tUewpb8nNIL/LZe1P90yp0vgTqa/MaUfU/rqYb9DVT4P/961v/GbVRf6raS/rAG5a6BapD9MUjaDaH62vyVDxoeLPaA/u7DDydALX798j5LWdHqsP3A7f5riI7W/JsPtMs2Ar7+wZMErhm+jv4sLTUgw1Ji/tOB/4BviXb+cNP9hoi+dvyhMeGyU55c//5vBBTM+rz9xWLt8WPigPyQED5EB7ZM/EivpgePahb8BuqNApO2wv66+CXQW6n2/sww96vfpuj+/gA6IEselvw3cTZ9a46+/Im4zopYznb9yzNcgAnCgP3S43Vm92H+/OEb6cNdShr+DZoyrvi6xv8QeLhM9PX6/OLQu7mOjxr9mDg5QTz2xv0Hk0cXnD6g/ccAXzQ3fbj84lksr5m+uv4nPpxZjY7C/zqeZtH/MdT9PH7ebDUyZPzK6eS+quJA/4EOrC92RdD9MKjZfk5SBP1Gj0iQVVbg/h5Mem7Jzjr82zONGesqrvw==\",\"dtype\":\"float64\",\"shape\":[50]},\"x\":[0,1,2,3,4,5,6,7,8,9,10,11,12,13,14,15,16,17,18,19,20,21,22,23,24,25,26,27,28,29,30,31,32,33,34,35,36,37,38,39,40,41,42,43,44,45,46,47,48,49]},\"selected\":{\"id\":\"14871\",\"type\":\"Selection\"},\"selection_policy\":{\"id\":\"14870\",\"type\":\"UnionRenderers\"}},\"id\":\"13935\",\"type\":\"ColumnDataSource\"},{\"attributes\":{},\"id\":\"14870\",\"type\":\"UnionRenderers\"},{\"attributes\":{\"formatter\":{\"id\":\"14868\",\"type\":\"BasicTickFormatter\"},\"plot\":{\"id\":\"13900\",\"subtype\":\"Figure\",\"type\":\"Plot\"},\"ticker\":{\"id\":\"13911\",\"type\":\"BasicTicker\"}},\"id\":\"13910\",\"type\":\"LinearAxis\"},{\"attributes\":{},\"id\":\"13908\",\"type\":\"LinearScale\"},{\"attributes\":{\"source\":{\"id\":\"13935\",\"type\":\"ColumnDataSource\"}},\"id\":\"13939\",\"type\":\"CDSView\"},{\"attributes\":{\"fill_alpha\":{\"value\":0.1},\"fill_color\":{\"value\":\"#1f77b4\"},\"line_alpha\":{\"value\":0.1},\"line_color\":{\"value\":\"#1f77b4\"},\"top\":{\"field\":\"top\"},\"width\":{\"value\":0.9},\"x\":{\"field\":\"x\"}},\"id\":\"13937\",\"type\":\"VBar\"},{\"attributes\":{\"fill_color\":{\"value\":\"#1f77b4\"},\"line_color\":{\"value\":\"#1f77b4\"},\"top\":{\"field\":\"top\"},\"width\":{\"value\":0.9},\"x\":{\"field\":\"x\"}},\"id\":\"13936\",\"type\":\"VBar\"},{\"attributes\":{},\"id\":\"13920\",\"type\":\"PanTool\"},{\"attributes\":{\"data_source\":{\"id\":\"13935\",\"type\":\"ColumnDataSource\"},\"glyph\":{\"id\":\"13936\",\"type\":\"VBar\"},\"hover_glyph\":null,\"muted_glyph\":null,\"nonselection_glyph\":{\"id\":\"13937\",\"type\":\"VBar\"},\"selection_glyph\":null,\"view\":{\"id\":\"13939\",\"type\":\"CDSView\"}},\"id\":\"13938\",\"type\":\"GlyphRenderer\"},{\"attributes\":{},\"id\":\"13921\",\"type\":\"WheelZoomTool\"},{\"attributes\":{\"callback\":null},\"id\":\"13904\",\"type\":\"DataRange1d\"},{\"attributes\":{},\"id\":\"14866\",\"type\":\"BasicTickFormatter\"},{\"attributes\":{\"plot\":null,\"text\":\"Partial Autocorrelation Plot INFY\"},\"id\":\"13899\",\"type\":\"Title\"},{\"attributes\":{\"bottom_units\":\"screen\",\"fill_alpha\":{\"value\":0.5},\"fill_color\":{\"value\":\"lightgrey\"},\"left_units\":\"screen\",\"level\":\"overlay\",\"line_alpha\":{\"value\":1.0},\"line_color\":{\"value\":\"black\"},\"line_dash\":[4,4],\"line_width\":{\"value\":2},\"plot\":null,\"render_mode\":\"css\",\"right_units\":\"screen\",\"top_units\":\"screen\"},\"id\":\"13928\",\"type\":\"BoxAnnotation\"},{\"attributes\":{\"active_drag\":\"auto\",\"active_inspect\":\"auto\",\"active_multi\":null,\"active_scroll\":\"auto\",\"active_tap\":\"auto\",\"tools\":[{\"id\":\"13920\",\"type\":\"PanTool\"},{\"id\":\"13921\",\"type\":\"WheelZoomTool\"},{\"id\":\"13922\",\"type\":\"BoxZoomTool\"},{\"id\":\"13923\",\"type\":\"SaveTool\"},{\"id\":\"13924\",\"type\":\"ResetTool\"},{\"id\":\"13925\",\"type\":\"HelpTool\"}]},\"id\":\"13926\",\"type\":\"Toolbar\"},{\"attributes\":{},\"id\":\"13925\",\"type\":\"HelpTool\"},{\"attributes\":{},\"id\":\"13923\",\"type\":\"SaveTool\"},{\"attributes\":{},\"id\":\"13924\",\"type\":\"ResetTool\"}],\"root_ids\":[\"13900\"]},\"title\":\"Bokeh Application\",\"version\":\"1.0.4\"}};\n",
              "  var render_items = [{\"docid\":\"edac0640-cf80-40fd-9aae-0147fed53aea\",\"roots\":{\"13900\":\"d1c85c4e-0abf-442a-ba07-bd61f6802e59\"}}];\n",
              "  root.Bokeh.embed.embed_items_notebook(docs_json, render_items);\n",
              "\n",
              "  }\n",
              "  if (root.Bokeh !== undefined) {\n",
              "    embed_document(root);\n",
              "  } else {\n",
              "    var attempts = 0;\n",
              "    var timer = setInterval(function(root) {\n",
              "      if (root.Bokeh !== undefined) {\n",
              "        embed_document(root);\n",
              "        clearInterval(timer);\n",
              "      }\n",
              "      attempts++;\n",
              "      if (attempts > 100) {\n",
              "        console.log(\"Bokeh: ERROR: Unable to run BokehJS code because BokehJS library is missing\");\n",
              "        clearInterval(timer);\n",
              "      }\n",
              "    }, 10, root)\n",
              "  }\n",
              "})(window);"
            ],
            "application/vnd.bokehjs_exec.v0+json": ""
          },
          "metadata": {
            "tags": [],
            "application/vnd.bokehjs_exec.v0+json": {
              "id": "13900"
            }
          }
        }
      ]
    },
    {
      "metadata": {
        "id": "8wyHRoULje_u",
        "colab_type": "code",
        "colab": {}
      },
      "cell_type": "code",
      "source": [
        ""
      ],
      "execution_count": 0,
      "outputs": []
    }
  ]
}