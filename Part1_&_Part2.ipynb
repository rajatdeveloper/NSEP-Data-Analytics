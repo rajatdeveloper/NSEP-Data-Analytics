{
  "nbformat": 4,
  "nbformat_minor": 0,
  "metadata": {
    "colab": {
      "name": "Part1 & Part2.ipynb",
      "version": "0.3.2",
      "provenance": [],
      "collapsed_sections": [],
      "include_colab_link": true
    },
    "kernelspec": {
      "name": "python3",
      "display_name": "Python 3"
    }
  },
  "cells": [
    {
      "cell_type": "markdown",
      "metadata": {
        "id": "view-in-github",
        "colab_type": "text"
      },
      "source": [
        "<a href=\"https://colab.research.google.com/github/rajatdeveloper/NSEP-Data-Analytics/blob/master/Part1_%26_Part2.ipynb\" target=\"_parent\"><img src=\"https://colab.research.google.com/assets/colab-badge.svg\" alt=\"Open In Colab\"/></a>"
      ]
    },
    {
      "metadata": {
        "id": "VtMuIESQetsc",
        "colab_type": "text"
      },
      "cell_type": "markdown",
      "source": [
        "# Installing &  Importing Dataset and Packages"
      ]
    },
    {
      "metadata": {
        "id": "tYmwGaKnPhDk",
        "colab_type": "text"
      },
      "cell_type": "markdown",
      "source": [
        "# Data Preprocessing"
      ]
    },
    {
      "metadata": {
        "id": "P1Nt4yCKPcxX",
        "colab_type": "text"
      },
      "cell_type": "markdown",
      "source": [
        "**Import Dataset**"
      ]
    },
    {
      "metadata": {
        "id": "cfonVvlYZIki",
        "colab_type": "code",
        "colab": {}
      },
      "cell_type": "code",
      "source": [
        "pip install nsepy"
      ],
      "execution_count": 0,
      "outputs": []
    },
    {
      "metadata": {
        "id": "C52wibrWPuuo",
        "colab_type": "text"
      },
      "cell_type": "markdown",
      "source": [
        "**Import Packages and Library**"
      ]
    },
    {
      "metadata": {
        "id": "bTosTzPKaSLH",
        "colab_type": "code",
        "colab": {}
      },
      "cell_type": "code",
      "source": [
        "from datetime import date,timedelta\n",
        "from nsepy import get_history\n",
        "import numpy as np\n",
        "import pandas as pd\n",
        "from pandas import datetime\n",
        "import matplotlib.pyplot as plt\n",
        "import math\n",
        "%matplotlib inline\n",
        "%pylab inline\n",
        "pylab.rcParams['figure.figsize'] = (20, 12)"
      ],
      "execution_count": 0,
      "outputs": []
    },
    {
      "metadata": {
        "id": "q1r7_5tKSV10",
        "colab_type": "text"
      },
      "cell_type": "markdown",
      "source": [
        "**NSE stocks (INFY,TCS) between 2015-2016**"
      ]
    },
    {
      "metadata": {
        "id": "fyR7r-8E3r7x",
        "colab_type": "code",
        "colab": {}
      },
      "cell_type": "code",
      "source": [
        "number_of_days = 365\n",
        "#start date\n",
        "strt = date(2015,1,1)\n",
        "#end date\n",
        "ends = strt+timedelta(days=number_of_days)\n",
        "#fetches the price history of stocks\n",
        "TCS = get_history(symbol='TCS',\n",
        "                    start= strt,\n",
        "                    end=ends)\n",
        "\n"
      ],
      "execution_count": 0,
      "outputs": []
    },
    {
      "metadata": {
        "id": "TVr39Z8beSgf",
        "colab_type": "code",
        "colab": {}
      },
      "cell_type": "code",
      "source": [
        "TCS"
      ],
      "execution_count": 0,
      "outputs": []
    },
    {
      "metadata": {
        "id": "PhtXwaGO4pXU",
        "colab_type": "code",
        "colab": {}
      },
      "cell_type": "code",
      "source": [
        "number_of_days = 365\n",
        "#start date\n",
        "strt = date(2015,1,1)\n",
        "#end date\n",
        "ends = strt+timedelta(days=number_of_days)\n",
        "#fetches the price history of stocks\n",
        "INFY = get_history(symbol='INFY',\n",
        "                    start= strt,\n",
        "                    end=ends)"
      ],
      "execution_count": 0,
      "outputs": []
    },
    {
      "metadata": {
        "id": "u8x8LRLIeWxn",
        "colab_type": "code",
        "colab": {}
      },
      "cell_type": "code",
      "source": [
        "INFY"
      ],
      "execution_count": 0,
      "outputs": []
    },
    {
      "metadata": {
        "id": "mqU-HERUTEPO",
        "colab_type": "text"
      },
      "cell_type": "markdown",
      "source": [
        "**Type Casting Date**"
      ]
    },
    {
      "metadata": {
        "id": "zE37wgXCeZYj",
        "colab_type": "code",
        "colab": {}
      },
      "cell_type": "code",
      "source": [
        "def type_casting(stock):\n",
        "    #reset the index\n",
        "    stock = stock.reset_index()\n",
        "    #typecast the Date datatype    \n",
        "    stock[\"Date\"] = pd.to_datetime(stock[\"Date\"])\n",
        "    #assign the index\n",
        "    stock.index = stock['Date']\n",
        "    return stock"
      ],
      "execution_count": 0,
      "outputs": []
    },
    {
      "metadata": {
        "id": "L2ig-0Qbgssk",
        "colab_type": "code",
        "colab": {}
      },
      "cell_type": "code",
      "source": [
        "TCS = type_casting(TCS)\n",
        "INFY = type_casting(INFY)\n",
        "#Assign name to stocks\n",
        "TCS.name = 'TCS'\n",
        "INFY.name = 'INFY'"
      ],
      "execution_count": 0,
      "outputs": []
    },
    {
      "metadata": {
        "id": "8EvLlU9Ojk7V",
        "colab_type": "code",
        "colab": {}
      },
      "cell_type": "code",
      "source": [
        "#create list of stock\n",
        "stocks = [TCS,INFY]"
      ],
      "execution_count": 0,
      "outputs": []
    },
    {
      "metadata": {
        "id": "XJGLLFhobRw_",
        "colab_type": "text"
      },
      "cell_type": "markdown",
      "source": [
        "#                                                                                             Part 1"
      ]
    },
    {
      "metadata": {
        "id": "wDsqSzcobV3p",
        "colab_type": "text"
      },
      "cell_type": "markdown",
      "source": [
        "**1. Create 4,16,....,52 week moving average(closing price) for each stock and index. This should happen through a function.**"
      ]
    },
    {
      "metadata": {
        "id": "zfpaZxf31ZG9",
        "colab_type": "text"
      },
      "cell_type": "markdown",
      "source": [
        "Assumption : Assume the size of a week is 5 day (Monday-Friday) and ignore the other holidays.\n",
        "Can't compute 52-week moving avergae because of other holidays"
      ]
    },
    {
      "metadata": {
        "id": "HiJtAoiRg8PR",
        "colab_type": "text"
      },
      "cell_type": "markdown",
      "source": [
        "**Moving Average Implementation**"
      ]
    },
    {
      "metadata": {
        "id": "A4gnDEhbbU49",
        "colab_type": "code",
        "colab": {}
      },
      "cell_type": "code",
      "source": [
        "#Moving Avergae Function\n",
        "def moving_average(values, size):\n",
        "    return np.convolve(values, np.ones(size), 'valid')/ size"
      ],
      "execution_count": 0,
      "outputs": []
    },
    {
      "metadata": {
        "id": "sWBfnDohevo_",
        "colab_type": "code",
        "colab": {}
      },
      "cell_type": "code",
      "source": [
        "#Append Moving Average in Dataset & Plot Line Chart Of Moving Average\n",
        "def plot_moving_average(stock):\n",
        "  \n",
        "  #creating array of window size\n",
        "  window_arr = [4,16,28,40]\n",
        "  day = 5\n",
        "  moving_average_dict = {}\n",
        "  \n",
        "  #Plot of closing price of stock\n",
        "  plt.title(\"Moving Average Of \"+stock.name+\" Stock\",fontsize=20)\n",
        "  plt.xlabel(\"Date\",fontsize=15) \n",
        "  plt.ylabel(\"Price\",fontsize=20)\n",
        "  #Plot of original closing price of stock\n",
        "  plt.plot(stock[\"Date\"],stock[\"Close\"],label=\"Closing pricing\",linestyle='--',linewidth=2)\n",
        "  \n",
        "  for size in window_arr:\n",
        "   \n",
        "    #dummy array for starting date to resize the frame as original \n",
        "    NA = [float('nan') for i in range(size*day-1)]\n",
        "    NA = np.array(NA)\n",
        "    #append dummy array with moving average\n",
        "    moving_average_dict[size] = np.hstack([NA,moving_average(stock[\"Close\"],size*day)])\n",
        "   \n",
        "    #append moving average to original dataframe of stock\n",
        "    temp = \"Moving Average \"+str(size)+\"-week\"\n",
        "    stock[temp] = moving_average_dict[size]\n",
        "    \n",
        "    #Plot of moving average of closing price of stock\n",
        "    plt.plot(stock[\"Date\"],stock[temp],label = temp,linewidth=2)\n",
        "  \n",
        "  print(\"Data Of \"+stock.name)\n",
        "  #display stock dataframe\n",
        "  display(stock)\n",
        "  \n",
        "  plt.legend(title = \"Legends\",loc = 3,prop={'size': 12})\n",
        "  plt.show()"
      ],
      "execution_count": 0,
      "outputs": []
    },
    {
      "metadata": {
        "id": "ZjktoF1ngyha",
        "colab_type": "code",
        "colab": {}
      },
      "cell_type": "code",
      "source": [
        "for stock in stocks:\n",
        "  plot_moving_average(stock)\n"
      ],
      "execution_count": 0,
      "outputs": []
    },
    {
      "metadata": {
        "id": "J7GsqK6DO5VP",
        "colab_type": "text"
      },
      "cell_type": "markdown",
      "source": [
        "**2. Create rolling window of size 10 on each stock/index. Handle unequal time series due to stock market holidays. You should look to increase your rolling window size to 75 and see how the data looks like.**"
      ]
    },
    {
      "metadata": {
        "id": "IpdFmZKDDd2m",
        "colab_type": "code",
        "colab": {}
      },
      "cell_type": "code",
      "source": [
        "def rolling_window(stock):\n",
        "    #creating array of Rolling window size\n",
        "    rolling_arr = [10,75]\n",
        "    \n",
        "    #Plot of closing price of stock\n",
        "    plt.title(\"Moving Average Of \"+stock.name+\" Stock\",fontsize=20)\n",
        "    plt.xlabel(\"Date\",fontsize=15) \n",
        "    plt.ylabel(\"Price\",fontsize=20)  \n",
        "    #Plot of original closing price of stock\n",
        "    plt.plot(stock[\"Date\"],stock[\"Close\"],label=\"Closing pricing\",linestyle='--',linewidth=2)\n",
        "\n",
        "    for size in rolling_arr:\n",
        "        temp = \"Rolling Window \"+str(size) \n",
        "        \n",
        "        #append rolling window average to original dataframe of stock\n",
        "        stock[temp] = np.round(stock[\"Close\"].rolling(window = size, center = False).mean(), 2)\n",
        "        \n",
        "        #Plot of rolling window average of closing price of stock\n",
        "        plt.plot(stock[\"Date\"],stock[temp],label = temp,linewidth=2)\n",
        "    \n",
        "    print(\"Data Of \"+stock.name)\n",
        "    #display stock dataframe\n",
        "    display(stock)\n",
        "    \n",
        "    plt.legend(title = \"Legends\",loc = 3,prop={'size': 12})\n",
        "    plt.show()"
      ],
      "execution_count": 0,
      "outputs": []
    },
    {
      "metadata": {
        "id": "gEXAaKrErfrG",
        "colab_type": "code",
        "colab": {}
      },
      "cell_type": "code",
      "source": [
        "for stock in stocks:\n",
        "  rolling_window(stock)\n"
      ],
      "execution_count": 0,
      "outputs": []
    },
    {
      "metadata": {
        "id": "9aBOKi9m5qPr",
        "colab_type": "text"
      },
      "cell_type": "markdown",
      "source": [
        "**3.1 Volume shocks - If volume traded is 10% higher/lower than previous day - make a 0/1 boolean time series for shock, 0/1 dummy-coded time series for direction of shock.**"
      ]
    },
    {
      "metadata": {
        "id": "4LMOzm3d5oxA",
        "colab_type": "code",
        "colab": {}
      },
      "cell_type": "code",
      "source": [
        "#Previous Day Volume\n",
        "def previous_volume(stock):\n",
        "  stock[\"Previous Day Volume\"] = stock[\"Volume\"].shift(1)\n",
        "\n",
        "\n",
        "#Volume Shock\n",
        "def volume_shocks(stock):\n",
        "  stock[\"Volume Shock\"] = ((((abs(stock[\"Previous Day Volume\"]-stock[\"Volume\"]))/stock[\"Volume\"])*100)>10).astype(int)\n",
        "\n",
        "#Volume Shock Direction    \n",
        "def volume_shock_direction(stock):\n",
        "  if(stock[\"Volume Shock\"]==1):\n",
        "        #if volume is greater than previous day direction is 1 else 0\n",
        "        if(stock[\"Volume\"]-stock[\"Previous Day Volume\"]>0):\n",
        "            return 1\n",
        "        else:\n",
        "            return 0\n",
        "  else:\n",
        "        return float('nan')\n",
        "  "
      ],
      "execution_count": 0,
      "outputs": []
    },
    {
      "metadata": {
        "id": "ZSzmjHb36EYw",
        "colab_type": "code",
        "colab": {}
      },
      "cell_type": "code",
      "source": [
        "for stock in stocks:\n",
        "  previous_volume(stock)\n",
        "  volume_shocks(stock)\n",
        "  stock[\"Volume Shock Direction\"] = stock.apply(volume_shock_direction,axis=1)\n",
        "  #display stock dataframe\n",
        "  print(\"Data Of \"+stock.name)\n",
        "  display(stock)\n",
        "  \n"
      ],
      "execution_count": 0,
      "outputs": []
    },
    {
      "metadata": {
        "id": "txvnAL4m_00R",
        "colab_type": "text"
      },
      "cell_type": "markdown",
      "source": [
        "**3.2 Price shocks  & Pricing black swan - If closing price at T vs T+1 has a difference > 2%, then 0/1 boolean time series for shock, 0/1 dummy-coded time series for direction of shock\n",
        "(3.2 & 3.3 both are same)**"
      ]
    },
    {
      "metadata": {
        "id": "R9LuRCI07GpO",
        "colab_type": "code",
        "colab": {}
      },
      "cell_type": "code",
      "source": [
        "#Next Day Close\n",
        "def next_close(stock):\n",
        "  stock[\"Next Day Close\"] = stock[\"Close\"].shift(-1)\n",
        "\n",
        "\n",
        "#Price Shock\n",
        "def price_shocks(stock):\n",
        "  stock[\"Price Shock\"] = ((((abs(stock[\"Next Day Close\"]-stock[\"Close\"]))/stock[\"Close\"])*100)>2).astype(int)\n",
        "\n",
        "#Price Shock Direction    \n",
        "def price_shock_direction(stock):\n",
        "  if(stock[\"Price Shock\"]==1):\n",
        "        #if close is greater than next day direction is 1 else 0\n",
        "        if(stock[\"Close\"]-stock[\"Next Day Close\"]>0):\n",
        "            return 1\n",
        "        else:\n",
        "            return 0\n",
        "  else:\n",
        "        return float('nan')\n",
        "  "
      ],
      "execution_count": 0,
      "outputs": []
    },
    {
      "metadata": {
        "id": "gN28xBD48CUf",
        "colab_type": "code",
        "colab": {}
      },
      "cell_type": "code",
      "source": [
        "for stock in stocks:\n",
        "  next_close(stock)\n",
        "  price_shocks(stock)\n",
        "  stock[\"Price Shock Direction\"] = stock.apply(price_shock_direction,axis=1)\n",
        "  #display stock dataframe\n",
        "  print(\"Data Of \"+stock.name)\n",
        "  display(stock)\n",
        "  \n"
      ],
      "execution_count": 0,
      "outputs": []
    },
    {
      "metadata": {
        "id": "3IPW9bQfNAeZ",
        "colab_type": "text"
      },
      "cell_type": "markdown",
      "source": [
        "**3.4 Pricing shock without volume shock - based on points a & b - Make a 0/1 dummy time series.\n",
        " **"
      ]
    },
    {
      "metadata": {
        "id": "7DUx23KbKZ-I",
        "colab_type": "code",
        "colab": {}
      },
      "cell_type": "code",
      "source": [
        "def pshock_without_vshock(stock):  \n",
        "  stock[\"Pshock W/O Vshock\"] = ((~stock[\"Volume Shock\"]) & stock[\"Price Shock\"]).astype(int)"
      ],
      "execution_count": 0,
      "outputs": []
    },
    {
      "metadata": {
        "id": "9gzWP8IMOQwR",
        "colab_type": "code",
        "colab": {}
      },
      "cell_type": "code",
      "source": [
        "for stock in stocks:\n",
        "  pshock_without_vshock(stock)\n",
        "  #display stock dataframe\n",
        "  print(\"Data Of \"+stock.name)\n",
        "  display(stock)\n",
        "  \n"
      ],
      "execution_count": 0,
      "outputs": []
    },
    {
      "metadata": {
        "id": "wRLiiqU6PVaE",
        "colab_type": "text"
      },
      "cell_type": "markdown",
      "source": [
        "#                                                                                             Part 2"
      ]
    },
    {
      "metadata": {
        "id": "2XL1jwkBQGO1",
        "colab_type": "text"
      },
      "cell_type": "markdown",
      "source": [
        "**Import Plotting Packages and Library**"
      ]
    },
    {
      "metadata": {
        "id": "y4iwvyUrOe6f",
        "colab_type": "code",
        "colab": {}
      },
      "cell_type": "code",
      "source": [
        "from bokeh.plotting import figure, show, output_file, output_notebook\n",
        "from bokeh.palettes import Spectral11, colorblind, Inferno, BuGn, brewer,GnBu,Blues\n",
        "from bokeh.models import HoverTool, value, LabelSet, Legend, ColumnDataSource,LinearColorMapper,BasicTicker, PrintfTickFormatter, ColorBar\n",
        "from statsmodels.tsa.stattools import acf, pacf"
      ],
      "execution_count": 0,
      "outputs": []
    },
    {
      "metadata": {
        "id": "aZhPgwNKP_fC",
        "colab_type": "code",
        "colab": {}
      },
      "cell_type": "code",
      "source": [
        "output_notebook()"
      ],
      "execution_count": 0,
      "outputs": []
    },
    {
      "metadata": {
        "id": "Yv4tZvrJUEz_",
        "colab_type": "code",
        "colab": {}
      },
      "cell_type": "code",
      "source": [
        "def bokeh_visual(stock):\n",
        "    print(stock.name)\n",
        "    fig = figure(x_axis_type=\"datetime\")\n",
        "    fig.line(stock['Date'], stock['Close'], color='blue', alpha=0.5)\n",
        "    flag = False\n",
        "    last = 0\n",
        "    segments = []\n",
        "    for i in range(len(stock[\"Volume Shock\"])):\n",
        "        if(stock[\"Volume Shock\"][i] and flag):\n",
        "                fig.line(stock['Date'][last:i], stock['Close'][last:i], color='red', alpha=0.5)\n",
        "                segments.append((last,i))\n",
        "                flag = False\n",
        "        elif(stock[\"Volume Shock\"][i]):\n",
        "                last = i\n",
        "                flag = True\n",
        "    fig.circle(stock.index, stock.Close*stock[\"Pshock W/O Vshock\"], size=4, legend='Price Shock W/O Volume Shock')\n",
        "    show(fig)"
      ],
      "execution_count": 0,
      "outputs": []
    },
    {
      "metadata": {
        "id": "Byf7hTnQUbvd",
        "colab_type": "code",
        "colab": {}
      },
      "cell_type": "code",
      "source": [
        "for stock in stocks:\n",
        "    bokeh_visual(stock)"
      ],
      "execution_count": 0,
      "outputs": []
    },
    {
      "metadata": {
        "id": "ZYGVwtrBVx5W",
        "colab_type": "code",
        "colab": {}
      },
      "cell_type": "code",
      "source": [
        ""
      ],
      "execution_count": 0,
      "outputs": []
    }
  ]
}